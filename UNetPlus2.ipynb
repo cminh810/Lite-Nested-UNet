{
 "cells": [
  {
   "cell_type": "markdown",
   "id": "25a35fb6",
   "metadata": {},
   "source": [
    "# ***Lite U-Net++ Architecture*** for *semantic segmentation*"
   ]
  },
  {
   "cell_type": "markdown",
   "id": "14dbc39e",
   "metadata": {},
   "source": [
    "<p align=\"center\">\n",
    "  <img src=\"Images/NestedUNet.png\" alt=\"Nested U-Net\" title = \"U-Net ++/ Nested U-Net\" width=\"600\"/> <br>\n",
    "  <em> U-Net ++/ Nested U-Net Architecture </em>\n",
    "</p>"
   ]
  },
  {
   "cell_type": "markdown",
   "id": "1b5074f3",
   "metadata": {},
   "source": [
    "- Nested U-Net is motivated by the U-Net backbone for image segmentation tasks. It was uniquely designed with Dense Connections and Deep Supervision. \n",
    "- *Dense Connection* allows all layers to have direct access to the gradients in loss function, since the consecutive node is created by concatenation of the prior layers. This helps the model to learn better and improves communication between layers at different stages.\n",
    "- *Deep Supervision* allows the stage 0 nodes to all have the capability to produce segmented outputs. Therefore, during inference, time can be reduced if we use the output of a shallower node."
   ]
  },
  {
   "cell_type": "markdown",
   "id": "bb7bbd7c",
   "metadata": {},
   "source": [
    "<p align=\"center\">\n",
    "  <img src=\"Images/Functions.png\" alt=\"Dense connection\" width=\"600\"/> <br>\n",
    "  <em> Dense Connection </em>\n",
    "</p>"
   ]
  },
  {
   "cell_type": "markdown",
   "id": "b857afc1",
   "metadata": {},
   "source": [
    "Formula for the dense connection in ***Nested U-Net***:\n",
    "$$\n",
    "x^{(i,j)} =\n",
    "\\begin{cases}\n",
    "  \\mathcal{H}\\!\\left(x^{(i-1,j)}\\right), & j=0, \\\\[6pt]\n",
    "  \\mathcal{H}\\!\\left(\\left[\\,\\{x^{(i,k)}\\}_{k=0}^{j-1},\\; \\mathcal{U}\\!\\left(x^{(i+1,j-1)}\\right)\\right]\\right), & j>0\n",
    "\\end{cases}\n",
    "$$\n",
    "\n",
    "With:\n",
    "- $\\mathcal{U}(\\cdot)$: Upsampling operation  \n",
    "- $\\mathcal{H}(\\cdot)$: Convolution + activation  \n",
    "- $[\\cdot]$: Concatenation\n"
   ]
  },
  {
   "cell_type": "markdown",
   "id": "e03c45d4",
   "metadata": {},
   "source": [
    "## Importing libraries and modules"
   ]
  },
  {
   "cell_type": "code",
   "execution_count": 19,
   "id": "b9440092",
   "metadata": {},
   "outputs": [],
   "source": [
    "#---Importing---\n",
    "from torch.utils.data import DataLoader, Dataset\n",
    "import torch\n",
    "import torch.nn as nn\n",
    "from torch.optim import Adam, SGD\n",
    "from torchvision import datasets\n",
    "import numpy as np\n",
    "import matplotlib.pyplot as plt\n",
    "import os\n",
    "from torchvision.transforms import v2\n",
    "import cv2\n",
    "import random\n",
    "import torch.optim.lr_scheduler as lr_scheduler\n",
    "import torchvision.transforms.functional as F\n",
    "from sklearn.model_selection import train_test_split\n",
    "import torchvision.io as io\n",
    "from torchsummary import summary\n",
    "from scipy import ndimage as ndi\n",
    "from tqdm import tqdm \n",
    "\n",
    "device = \"cuda\" if torch.cuda.is_available() else \"cpu\""
   ]
  },
  {
   "cell_type": "markdown",
   "id": "0a6f2ec0",
   "metadata": {},
   "source": [
    "### *Group Normalization / Batch Normalization / Instance Normalization*"
   ]
  },
  {
   "cell_type": "code",
   "execution_count": 20,
   "id": "f3107054",
   "metadata": {},
   "outputs": [],
   "source": [
    "# --- Versatile Normalization fucntion ---\n",
    "def get_norm(num_channels, kind=\"gn\", num_groups=8):\n",
    "    if kind == \"gn\":\n",
    "        # choose a divisor of num_channels\n",
    "        g = min(num_groups, num_channels)\n",
    "        while g > 1 and (num_channels % g) != 0:\n",
    "            g -= 1\n",
    "        return nn.GroupNorm(g, num_channels)\n",
    "    elif kind == \"in\":\n",
    "        return nn.InstanceNorm2d(num_channels, affine=True, track_running_stats=False)\n",
    "    elif kind == \"bn\":\n",
    "        return nn.BatchNorm2d(num_channels)\n",
    "    else:\n",
    "        raise ValueError(f\"Unknown norm kind: {kind}\")"
   ]
  },
  {
   "cell_type": "markdown",
   "id": "b9447296",
   "metadata": {},
   "source": [
    "### *Squeeze and Excitation Block*"
   ]
  },
  {
   "cell_type": "markdown",
   "id": "2138053f",
   "metadata": {},
   "source": [
    "<p align=\"center\">\n",
    "  <img src=\"Images/SEBlock.jpg\" alt=\"SE Block\" width=\"400\"/> <br>\n",
    "  <em> SE Block </em>\n",
    "</p>"
   ]
  },
  {
   "cell_type": "code",
   "execution_count": 21,
   "id": "0fb8d285",
   "metadata": {},
   "outputs": [],
   "source": [
    "class SE(nn.Module):\n",
    "    def __init__(self, in_channels, out_channels, reduction = 4):\n",
    "        super(SE, self).__init__()\n",
    "        self.squeeze = nn.AdaptiveAvgPool2d((1,1))\n",
    "        self.excitation = nn.Sequential(\n",
    "            nn.Flatten(),\n",
    "            nn.Linear(in_features=in_channels, out_features=out_channels//reduction),\n",
    "            nn.ReLU(inplace=True),\n",
    "            nn.Linear(in_features=out_channels//reduction, out_features=out_channels),\n",
    "            nn.Sigmoid()\n",
    "        )\n",
    "    def forward(self, input_map):\n",
    "        x = self.squeeze(input_map)\n",
    "        x = self.excitation(x).unsqueeze(-1).unsqueeze(-1) #[B,C]->[B,C,1,1], unsqueeze(-1) means to unsqueeze the last dim\n",
    "        return input_map*x"
   ]
  },
  {
   "cell_type": "markdown",
   "id": "339cc9b5",
   "metadata": {},
   "source": [
    "## U-Lite inpsired **Convolution Blocks**"
   ]
  },
  {
   "cell_type": "markdown",
   "id": "f83ec46e",
   "metadata": {},
   "source": [
    "<p align=\"center\">\n",
    "  <img src=\"Images/AxialConv.png\" alt=\"Axial Convolution\" width = \"40%\"/> <br>\n",
    "  <em> Single Axial DW Convolution </em>\n",
    "</p>"
   ]
  },
  {
   "cell_type": "markdown",
   "id": "e535d5a6",
   "metadata": {},
   "source": [
    "### *Axial Depth-wise Convolution*"
   ]
  },
  {
   "cell_type": "code",
   "execution_count": 22,
   "id": "bb9b5ff8",
   "metadata": {},
   "outputs": [],
   "source": [
    "class AxialConvDW(nn.Module):\n",
    "    def __init__ (self, in_channels, axial_size = 7, dilation=1):\n",
    "        super(AxialConvDW,self).__init__()\n",
    "\n",
    "        padding = ((axial_size-1)//2)*dilation\n",
    "\n",
    "        self.horizontal_conv = nn.Conv2d(in_channels, in_channels, \n",
    "            kernel_size=(1,axial_size), stride=1, padding = (0,padding), \n",
    "            groups=in_channels, dilation=dilation)\n",
    "        \n",
    "        self.vertical_conv = nn.Conv2d(in_channels, in_channels, \n",
    "            kernel_size=(axial_size,1), stride=1, padding = (padding,0), \n",
    "            groups=in_channels, dilation=dilation)\n",
    "        \n",
    "    def forward(self, x):\n",
    "        return x+self.horizontal_conv(x)+self.vertical_conv(x)"
   ]
  },
  {
   "cell_type": "markdown",
   "id": "72746868",
   "metadata": {},
   "source": [
    "### *Single Axial Depth-wise Convolution Block*"
   ]
  },
  {
   "cell_type": "code",
   "execution_count": 23,
   "id": "e15f8ac6",
   "metadata": {},
   "outputs": [],
   "source": [
    "class SDWConv (nn.Module):\n",
    "    def __init__ (self, in_channels, out_channels, axial_size = 3, dilation=1, act = 'gelu', norm = 'gn'):\n",
    "        super().__init__()\n",
    "        self.conv = nn.Sequential(\n",
    "            AxialConvDW(in_channels=in_channels,axial_size=axial_size,dilation=dilation),\n",
    "            get_norm(in_channels,kind=norm),\n",
    "            nn.Conv2d(in_channels, out_channels, 1, 1),\n",
    "            nn.GELU() if act == 'gelu' else nn.ReLU(inplace = True))\n",
    "    def forward(self, x):\n",
    "        return self.conv(x)"
   ]
  },
  {
   "cell_type": "markdown",
   "id": "99a8c81e",
   "metadata": {},
   "source": [
    "### *Double Axial Depth-wise Convolution Block*"
   ]
  },
  {
   "cell_type": "markdown",
   "id": "9d96df80",
   "metadata": {},
   "source": [
    "<p align=\"center\">\n",
    "  <img src=\"Images/DoubleSDWConv.png\" alt=\"Double SDW Convolution\"/> <br>\n",
    "  <em> Double Axial DW Convolution </em>\n",
    "</p>"
   ]
  },
  {
   "cell_type": "code",
   "execution_count": 24,
   "id": "78385bfd",
   "metadata": {},
   "outputs": [],
   "source": [
    "class DoubleSDWConv (nn.Module):\n",
    "    def __init__ (self, in_channels, out_channels, axial_size = 3, dilation = 1, act = 'gelu'):\n",
    "        super().__init__()\n",
    "        self.conv1 = SDWConv(in_channels, out_channels, axial_size, dilation, act)\n",
    "        self.conv2 = SDWConv(out_channels, out_channels, axial_size, dilation, act)\n",
    "        self.se = SE(out_channels, out_channels,reduction=6)\n",
    "    def forward(self, x):\n",
    "        return self.se(self.conv2(self.conv1(x)))"
   ]
  },
  {
   "cell_type": "markdown",
   "id": "beab29cc",
   "metadata": {},
   "source": [
    "### *U-Lite Bottleneck*"
   ]
  },
  {
   "cell_type": "markdown",
   "id": "28e9b884",
   "metadata": {},
   "source": [
    "<p align=\"center\">\n",
    "  <img src=\"Images/UliteBottleneck.png\" alt=\"Ulite Bottleneck\" width = '70%'/> <br>\n",
    "  <em> U-Lite Bottleneck </em>\n",
    "</p>"
   ]
  },
  {
   "cell_type": "code",
   "execution_count": 25,
   "id": "d9fa1754",
   "metadata": {},
   "outputs": [],
   "source": [
    "class BottleNeck(nn.Module):\n",
    "    def __init__ (self, in_channels, mid_channels):\n",
    "        super(BottleNeck, self).__init__()\n",
    "        self.pw1 = nn.Conv2d(in_channels, mid_channels//4, kernel_size=1, stride = 1)\n",
    "        self.dw1 = AxialConvDW(mid_channels//4, dilation=1)\n",
    "        self.dw2 = AxialConvDW(mid_channels//4, dilation=2)\n",
    "        self.dw3 = AxialConvDW(mid_channels//4, dilation=3)\n",
    "        self.bn = nn.BatchNorm2d(mid_channels)\n",
    "        self.pw2 = nn.Conv2d(mid_channels, mid_channels, kernel_size=1, stride = 1)\n",
    "        self.gelu = nn.GELU()\n",
    "        self.se = SE(mid_channels,mid_channels,reduction=4)\n",
    "\n",
    "    def forward(self, x):\n",
    "        x = self.pw1(x)\n",
    "        x = torch.cat([x,self.dw1(x),self.dw2(x),self.dw3(x)], dim=1)\n",
    "        x = self.gelu(self.pw2(self.bn(x)))\n",
    "        return self.se(x)"
   ]
  },
  {
   "cell_type": "markdown",
   "id": "2f114d67",
   "metadata": {},
   "source": [
    "## Ordinary **Convolution Blocks**"
   ]
  },
  {
   "cell_type": "markdown",
   "id": "95283c78",
   "metadata": {},
   "source": [
    "### *Single Convolution Block*\n",
    "- A simple convolution block involves convolution layer, followed by a batch normalization and an acitvation function."
   ]
  },
  {
   "cell_type": "code",
   "execution_count": 26,
   "id": "27e3d80d",
   "metadata": {},
   "outputs": [],
   "source": [
    "class SingleConv(nn.Module):\n",
    "    def __init__ (self, in_ch, out_ch, kernel_size = 3):\n",
    "        super().__init__()\n",
    "        self.flow = nn.Sequential(\n",
    "            nn.Conv2d(in_ch, out_ch, kernel_size, stride = 1, padding = 'same'), #For changes in spatial size (Downsample)\n",
    "            nn.BatchNorm2d(out_ch),\n",
    "            nn.ReLU(inplace=True)\n",
    "        )\n",
    "    def forward(self, x):\n",
    "        return self.flow(x)"
   ]
  },
  {
   "cell_type": "markdown",
   "id": "1b510f37",
   "metadata": {},
   "source": [
    "### *Double Convolution Block*"
   ]
  },
  {
   "cell_type": "code",
   "execution_count": 27,
   "id": "eabdeaf0",
   "metadata": {},
   "outputs": [],
   "source": [
    "class DoubleConv(nn.Module):\n",
    "    def __init__ (self, in_ch, out_ch, kernel_size = 3):\n",
    "        super().__init__()\n",
    "        self.flow = nn.Sequential(\n",
    "            nn.Conv2d(in_ch, out_ch, kernel_size, stride = 1, padding = 'same'), #For changes in spatial size (Downsample)\n",
    "            nn.BatchNorm2d(out_ch),\n",
    "            nn.ReLU(inplace=True),\n",
    "            nn.Conv2d(out_ch, out_ch, kernel_size, stride=1, padding = 'same'),\n",
    "            nn.BatchNorm2d(out_ch),\n",
    "            nn.ReLU(inplace=True)\n",
    "        )\n",
    "    def forward(self, x):\n",
    "        return self.flow(x)"
   ]
  },
  {
   "cell_type": "markdown",
   "id": "be886ebc",
   "metadata": {},
   "source": [
    "### *Simple Bottleneck*\n",
    "- Basically just a double convolution block"
   ]
  },
  {
   "cell_type": "code",
   "execution_count": 28,
   "id": "c91c6022",
   "metadata": {},
   "outputs": [],
   "source": [
    "class OGBottleNeck(nn.Module):\n",
    "    def __init__ (self, in_channels, mid_channels, padding = 1):\n",
    "        super().__init__()\n",
    "        self.conv = nn.Sequential(\n",
    "            nn.Conv2d(in_channels, mid_channels, kernel_size=3, padding = padding, stride = 1),\n",
    "            nn.BatchNorm2d(mid_channels),\n",
    "            nn.ReLU(inplace=True),\n",
    "            nn.Conv2d(mid_channels, mid_channels, kernel_size=3, padding = padding, stride = 1),\n",
    "            nn.BatchNorm2d(mid_channels),\n",
    "            nn.ReLU(inplace = True)\n",
    "        )\n",
    "    def forward(self, x):\n",
    "        x = self.conv(x)\n",
    "        return x"
   ]
  },
  {
   "cell_type": "markdown",
   "id": "29d7a726",
   "metadata": {},
   "source": [
    "## Flexible class to call any Convolution block"
   ]
  },
  {
   "cell_type": "code",
   "execution_count": 29,
   "id": "a62f33ce",
   "metadata": {},
   "outputs": [],
   "source": [
    "class ConvLayer(nn.Module):\n",
    "    def __init__ (self, conv_layer, *args, **kwargs):\n",
    "        super().__init__()\n",
    "        self.layer = conv_layer(*args, **kwargs)\n",
    "    def forward(self,x):\n",
    "        return self.layer(x)"
   ]
  },
  {
   "cell_type": "markdown",
   "id": "88f486cb",
   "metadata": {},
   "source": [
    "## ***U-Net++*** "
   ]
  },
  {
   "cell_type": "code",
   "execution_count": 30,
   "id": "715320c4",
   "metadata": {},
   "outputs": [],
   "source": [
    "class NestedUNet(nn.Module):\n",
    "    def __init__ (self, num_classes = 1, in_channels = 3, planes = [32,64,128,256,512], deep_supervision = True):\n",
    "        super().__init__()\n",
    "        \n",
    "        self.down_sample = nn.MaxPool2d(2,2)\n",
    "        self.up_sample =  nn.Upsample(scale_factor=2, mode = 'bilinear', align_corners=False)\n",
    "        self.deep_supervision = deep_supervision\n",
    "\n",
    "        self.X_00 = nn.Sequential(\n",
    "            ConvLayer(nn.Conv2d,in_channels=in_channels,out_channels=planes[0],kernel_size = 7, stride = 1, padding = 3),\n",
    "            ConvLayer(DoubleConv,in_ch=planes[0],out_ch=planes[0])\n",
    "        )\n",
    "        self.X_10 = ConvLayer(DoubleConv,planes[0],planes[1])\n",
    "        self.X_20 = ConvLayer(DoubleConv,planes[1],planes[2])\n",
    "        self.X_30 = ConvLayer(DoubleConv,planes[2],planes[3])\n",
    "        \n",
    "        self.X_40 = OGBottleNeck(planes[3],planes[4])\n",
    "\n",
    "        self.X_01 = ConvLayer(SingleConv,planes[0]+planes[1],planes[0])\n",
    "        self.X_11 = ConvLayer(SingleConv,planes[1]+planes[2],planes[1])\n",
    "        self.X_21 = ConvLayer(SingleConv,planes[2]+planes[3],planes[2])\n",
    "        self.X_31 = ConvLayer(DoubleConv,planes[3]+planes[4],planes[3])\n",
    "\n",
    "        self.X_02 = ConvLayer(SingleConv,planes[0]*2+planes[1],planes[0])\n",
    "        self.X_12 = ConvLayer(SingleConv,planes[1]*2+planes[2],planes[1])\n",
    "        self.X_22 = ConvLayer(DoubleConv,planes[2]*2+planes[3],planes[2])\n",
    "\n",
    "        self.X_03 = ConvLayer(SingleConv,planes[0]*3+planes[1],planes[0])\n",
    "        self.X_13 = ConvLayer(DoubleConv,planes[1]*3+planes[2],planes[1])\n",
    "\n",
    "        self.X_04 = ConvLayer(DoubleConv,planes[0]*4+planes[1],planes[0])\n",
    "\n",
    "        self.final1 = nn.Conv2d(planes[0],num_classes,1)\n",
    "        self.final2 = nn.Conv2d(planes[0],num_classes,1)\n",
    "        self.final3 = nn.Conv2d(planes[0],num_classes,1)\n",
    "        self.final4 = nn.Conv2d(planes[0],num_classes,1)\n",
    "\n",
    "    def forward (self, input):\n",
    "        x00 = self.X_00(input)\n",
    "        x10 = self.X_10(self.down_sample(x00))\n",
    "        x20 = self.X_20(self.down_sample(x10))\n",
    "        x30 = self.X_30(self.down_sample(x20))\n",
    "        x40 = self.X_40(self.down_sample(x30))\n",
    "\n",
    "        x01 = self.X_01(torch.cat([x00,self.up_sample(x10)],dim = 1))\n",
    "        x11 = self.X_11(torch.cat([x10,self.up_sample(x20)],dim = 1))\n",
    "        x21 = self.X_21(torch.cat([x20,self.up_sample(x30)],dim = 1))\n",
    "        x31 = self.X_31(torch.cat([x30,self.up_sample(x40)],dim = 1))\n",
    "\n",
    "        x02 = self.X_02(torch.cat([x00,x01,self.up_sample(x11)],dim = 1))\n",
    "        x12 = self.X_12(torch.cat([x10,x11,self.up_sample(x21)],dim = 1))\n",
    "        x22 = self.X_22(torch.cat([x20, x21,self.up_sample(x31)],dim = 1))\n",
    "\n",
    "        x03 = self.X_03(torch.cat([x00,x01,x02,self.up_sample(x12)],dim = 1))\n",
    "        x13 = self.X_13(torch.cat([x10,x11,x12,self.up_sample(x22)],dim = 1))\n",
    "\n",
    "        x04 = self.X_04(torch.cat([x00,x01,x02,x03,self.up_sample(x13)],dim = 1))\n",
    "\n",
    "        if self.deep_supervision:\n",
    "            output1 = self.final1(x01)\n",
    "            output2 = self.final2(x02)\n",
    "            output3 = self.final3(x03)\n",
    "            output4 = self.final4(x04)\n",
    "            return [output1, output2, output3, output4]\n",
    "        else:\n",
    "            output = self.final4(x04) # [N,1,H,W], one batch at a time\n",
    "            return output"
   ]
  },
  {
   "cell_type": "markdown",
   "id": "f20e0104",
   "metadata": {},
   "source": [
    "### Run test on U-Net++ and evaluate number of parameters"
   ]
  },
  {
   "cell_type": "code",
   "execution_count": 31,
   "id": "19ac1c93",
   "metadata": {},
   "outputs": [
    {
     "name": "stdout",
     "output_type": "stream",
     "text": [
      "torch.Size([8, 1, 128, 128])\n",
      "==========================================================================================\n",
      "Layer (type:depth-idx)                   Output Shape              Param #\n",
      "==========================================================================================\n",
      "├─Sequential: 1-1                        [-1, 32, 128, 128]        --\n",
      "|    └─ConvLayer: 2-1                    [-1, 32, 128, 128]        --\n",
      "|    |    └─Conv2d: 3-1                  [-1, 32, 128, 128]        4,736\n",
      "|    └─ConvLayer: 2-2                    [-1, 32, 128, 128]        --\n",
      "|    |    └─DoubleConv: 3-2              [-1, 32, 128, 128]        18,624\n",
      "├─MaxPool2d: 1-2                         [-1, 32, 64, 64]          --\n",
      "├─ConvLayer: 1-3                         [-1, 64, 64, 64]          --\n",
      "|    └─DoubleConv: 2-3                   [-1, 64, 64, 64]          --\n",
      "|    |    └─Sequential: 3-3              [-1, 64, 64, 64]          55,680\n",
      "├─MaxPool2d: 1-4                         [-1, 64, 32, 32]          --\n",
      "├─ConvLayer: 1-5                         [-1, 128, 32, 32]         --\n",
      "|    └─DoubleConv: 2-4                   [-1, 128, 32, 32]         --\n",
      "|    |    └─Sequential: 3-4              [-1, 128, 32, 32]         221,952\n",
      "├─MaxPool2d: 1-6                         [-1, 128, 16, 16]         --\n",
      "├─ConvLayer: 1-7                         [-1, 256, 16, 16]         --\n",
      "|    └─DoubleConv: 2-5                   [-1, 256, 16, 16]         --\n",
      "|    |    └─Sequential: 3-5              [-1, 256, 16, 16]         886,272\n",
      "├─MaxPool2d: 1-8                         [-1, 256, 8, 8]           --\n",
      "├─OGBottleNeck: 1-9                      [-1, 512, 8, 8]           --\n",
      "|    └─Sequential: 2-6                   [-1, 512, 8, 8]           --\n",
      "|    |    └─Conv2d: 3-6                  [-1, 512, 8, 8]           1,180,160\n",
      "|    |    └─BatchNorm2d: 3-7             [-1, 512, 8, 8]           1,024\n",
      "|    |    └─ReLU: 3-8                    [-1, 512, 8, 8]           --\n",
      "|    |    └─Conv2d: 3-9                  [-1, 512, 8, 8]           2,359,808\n",
      "|    |    └─BatchNorm2d: 3-10            [-1, 512, 8, 8]           1,024\n",
      "|    |    └─ReLU: 3-11                   [-1, 512, 8, 8]           --\n",
      "├─Upsample: 1-10                         [-1, 64, 128, 128]        --\n",
      "├─ConvLayer: 1-11                        [-1, 32, 128, 128]        --\n",
      "|    └─SingleConv: 2-7                   [-1, 32, 128, 128]        --\n",
      "|    |    └─Sequential: 3-12             [-1, 32, 128, 128]        27,744\n",
      "├─Upsample: 1-12                         [-1, 128, 64, 64]         --\n",
      "├─ConvLayer: 1-13                        [-1, 64, 64, 64]          --\n",
      "|    └─SingleConv: 2-8                   [-1, 64, 64, 64]          --\n",
      "|    |    └─Sequential: 3-13             [-1, 64, 64, 64]          110,784\n",
      "├─Upsample: 1-14                         [-1, 256, 32, 32]         --\n",
      "├─ConvLayer: 1-15                        [-1, 128, 32, 32]         --\n",
      "|    └─SingleConv: 2-9                   [-1, 128, 32, 32]         --\n",
      "|    |    └─Sequential: 3-14             [-1, 128, 32, 32]         442,752\n",
      "├─Upsample: 1-16                         [-1, 512, 16, 16]         --\n",
      "├─ConvLayer: 1-17                        [-1, 256, 16, 16]         --\n",
      "|    └─DoubleConv: 2-10                  [-1, 256, 16, 16]         --\n",
      "|    |    └─Sequential: 3-15             [-1, 256, 16, 16]         2,360,832\n",
      "├─Upsample: 1-18                         [-1, 64, 128, 128]        --\n",
      "├─ConvLayer: 1-19                        [-1, 32, 128, 128]        --\n",
      "|    └─SingleConv: 2-11                  [-1, 32, 128, 128]        --\n",
      "|    |    └─Sequential: 3-16             [-1, 32, 128, 128]        36,960\n",
      "├─Upsample: 1-20                         [-1, 128, 64, 64]         --\n",
      "├─ConvLayer: 1-21                        [-1, 64, 64, 64]          --\n",
      "|    └─SingleConv: 2-12                  [-1, 64, 64, 64]          --\n",
      "|    |    └─Sequential: 3-17             [-1, 64, 64, 64]          147,648\n",
      "├─Upsample: 1-22                         [-1, 256, 32, 32]         --\n",
      "├─ConvLayer: 1-23                        [-1, 128, 32, 32]         --\n",
      "|    └─DoubleConv: 2-13                  [-1, 128, 32, 32]         --\n",
      "|    |    └─Sequential: 3-18             [-1, 128, 32, 32]         738,048\n",
      "├─Upsample: 1-24                         [-1, 64, 128, 128]        --\n",
      "├─ConvLayer: 1-25                        [-1, 32, 128, 128]        --\n",
      "|    └─SingleConv: 2-14                  [-1, 32, 128, 128]        --\n",
      "|    |    └─Sequential: 3-19             [-1, 32, 128, 128]        46,176\n",
      "├─Upsample: 1-26                         [-1, 128, 64, 64]         --\n",
      "├─ConvLayer: 1-27                        [-1, 64, 64, 64]          --\n",
      "|    └─DoubleConv: 2-15                  [-1, 64, 64, 64]          --\n",
      "|    |    └─Sequential: 3-20             [-1, 64, 64, 64]          221,568\n",
      "├─Upsample: 1-28                         [-1, 64, 128, 128]        --\n",
      "├─ConvLayer: 1-29                        [-1, 32, 128, 128]        --\n",
      "|    └─DoubleConv: 2-16                  [-1, 32, 128, 128]        --\n",
      "|    |    └─Sequential: 3-21             [-1, 32, 128, 128]        64,704\n",
      "├─Conv2d: 1-30                           [-1, 1, 128, 128]         33\n",
      "├─Conv2d: 1-31                           [-1, 1, 128, 128]         33\n",
      "├─Conv2d: 1-32                           [-1, 1, 128, 128]         33\n",
      "├─Conv2d: 1-33                           [-1, 1, 128, 128]         33\n",
      "==========================================================================================\n",
      "Total params: 8,926,628\n",
      "Trainable params: 8,926,628\n",
      "Non-trainable params: 0\n",
      "Total mult-adds (G): 7.65\n",
      "==========================================================================================\n",
      "Input size (MB): 0.19\n",
      "Forward/backward pass size (MB): 83.50\n",
      "Params size (MB): 34.05\n",
      "Estimated Total Size (MB): 117.74\n",
      "==========================================================================================\n"
     ]
    }
   ],
   "source": [
    "if __name__ == \"__main__\":\n",
    "    inputs = torch.randn((8, 3, 128,128))\n",
    "    model = NestedUNet()\n",
    "    outputs = model(inputs)\n",
    "    print(outputs[0].shape)\n",
    "    summary(model, (3,128,128))"
   ]
  },
  {
   "cell_type": "markdown",
   "id": "c50f8bf6",
   "metadata": {},
   "source": [
    "## ***Lite U-Net++***, inspired by the design of *U-Lite*"
   ]
  },
  {
   "cell_type": "code",
   "execution_count": 32,
   "id": "6a67dd8f",
   "metadata": {},
   "outputs": [],
   "source": [
    "class LiteNestedUNet (nn.Module):\n",
    "    def __init__ (self, num_classes = 1, in_channels = 3, \n",
    "                  planes = [32,64,128,256, 512], deep_supervision = True):\n",
    "        super().__init__()\n",
    "        \n",
    "        self.down_sample = nn.MaxPool2d(2,2)\n",
    "        self.up_sample =  nn.Upsample(scale_factor=2, mode = 'bilinear', align_corners=False)\n",
    "        self.deep_supervision = deep_supervision\n",
    "        self.gelu = nn.GELU()\n",
    "\n",
    "        self.X_00 = ConvLayer(DoubleSDWConv,in_channels, planes[0], axial_size = 3)\n",
    "        self.X_10 = ConvLayer(DoubleSDWConv,planes[0],planes[1],axial_size = 3)\n",
    "        self.X_20 = ConvLayer(DoubleSDWConv,planes[1],planes[2],axial_size = 5)\n",
    "        self.X_30 = ConvLayer(DoubleSDWConv,planes[2],planes[3],axial_size = 5)\n",
    "\n",
    "        self.X_40 = BottleNeck(planes[3],planes[4])\n",
    "\n",
    "        self.X_01 = ConvLayer(SDWConv,planes[0]+planes[1],planes[0],axial_size=3)\n",
    "        self.X_11 = ConvLayer(SDWConv,planes[1]+planes[2],planes[1],axial_size=3)\n",
    "        self.X_21 = ConvLayer(SDWConv,planes[2]+planes[3],planes[2],axial_size=5)\n",
    "        self.X_31 = ConvLayer(DoubleSDWConv,planes[3]+planes[4],planes[3],axial_size = 5)\n",
    "\n",
    "        self.X_02 = ConvLayer(SDWConv,planes[0]*2+planes[1],planes[0],axial_size=3)\n",
    "        self.X_12 = ConvLayer(SDWConv,planes[1]*2+planes[2],planes[1],axial_size=3)\n",
    "        self.X_22 = ConvLayer(DoubleSDWConv,planes[2]*2+planes[3],planes[2],axial_size=5)\n",
    "\n",
    "        self.X_03 = ConvLayer(SDWConv,planes[0]*3+planes[1],planes[0],axial_size=3)\n",
    "        self.X_13 = ConvLayer(DoubleSDWConv,planes[1]*3+planes[2],planes[1],axial_size=3)\n",
    "\n",
    "        self.X_04 = ConvLayer(DoubleSDWConv,planes[0]*4+planes[1],planes[0],axial_size=3)\n",
    "\n",
    "        self.final1 = nn.Conv2d(planes[0],num_classes,1)\n",
    "        self.final2 = nn.Conv2d(planes[0],num_classes,1)\n",
    "        self.final3 = nn.Conv2d(planes[0],num_classes,1)\n",
    "        self.final4 = nn.Conv2d(planes[0],num_classes,1)\n",
    "\n",
    "    def forward (self, input):\n",
    "        x00 = self.X_00(input)\n",
    "        x10 = self.X_10(self.down_sample(x00))\n",
    "        x20 = self.X_20(self.down_sample(x10))\n",
    "        x30 = self.X_30(self.down_sample(x20))\n",
    "        x40 = self.X_40(self.down_sample(x30))\n",
    "\n",
    "        x01 = self.X_01(torch.cat([x00,self.up_sample(x10)],dim = 1))\n",
    "        x11 = self.X_11(torch.cat([x10,self.up_sample(x20)],dim = 1))\n",
    "        x21 = self.X_21(torch.cat([x20,self.up_sample(x30)],dim = 1))\n",
    "        x31 = self.X_31(torch.cat([x30,self.up_sample(x40)],dim = 1))\n",
    "\n",
    "        x02 = self.X_02(torch.cat([x00,x01,self.up_sample(x11)],dim = 1))\n",
    "        x12 = self.X_12(torch.cat([x10,x11,self.up_sample(x21)],dim = 1))\n",
    "        x22 = self.X_22(torch.cat([x20, x21,self.up_sample(x31)],dim = 1))\n",
    "\n",
    "        x03 = self.X_03(torch.cat([x00,x01,x02,self.up_sample(x12)],dim = 1))\n",
    "        x13 = self.X_13(torch.cat([x10,x11,x12,self.up_sample(x22)],dim = 1))\n",
    "\n",
    "        x04 = self.X_04(torch.cat([x00,x01,x02,x03,self.up_sample(x13)],dim = 1))\n",
    "        \n",
    "        if self.deep_supervision: \n",
    "            #self.training to ensure that the model is in 'train' mode\n",
    "            #self.training is a boolean attribute of torch.nn.Module that indicates whether the module is currently in training mode or evaluation (inference) mode.\n",
    "            output1 = self.final1(x01)\n",
    "            output2 = self.final2(x02)\n",
    "            output3 = self.final3(x03)\n",
    "            output4 = self.final4(x04)\n",
    "            return [output1, output2, output3, output4]\n",
    "        else:\n",
    "            output = self.final4(x04) # [N,1,H,W], one batch at a time\n",
    "            return output"
   ]
  },
  {
   "cell_type": "markdown",
   "id": "601cd45f",
   "metadata": {},
   "source": [
    "### Run test on Lite U-Net++ and evaluate number of parameters"
   ]
  },
  {
   "cell_type": "code",
   "execution_count": 33,
   "id": "00ed5f7e",
   "metadata": {},
   "outputs": [
    {
     "name": "stdout",
     "output_type": "stream",
     "text": [
      "torch.Size([8, 1, 128, 128])\n",
      "===============================================================================================\n",
      "Layer (type:depth-idx)                        Output Shape              Param #\n",
      "===============================================================================================\n",
      "├─ConvLayer: 1-1                              [-1, 32, 128, 128]        --\n",
      "|    └─DoubleSDWConv: 2-1                     [-1, 32, 128, 128]        --\n",
      "|    |    └─SDWConv: 3-1                      [-1, 32, 128, 128]        158\n",
      "|    |    └─SDWConv: 3-2                      [-1, 32, 128, 128]        1,376\n",
      "|    |    └─SE: 3-3                           [-1, 32, 128, 128]        357\n",
      "├─MaxPool2d: 1-2                              [-1, 32, 64, 64]          --\n",
      "├─ConvLayer: 1-3                              [-1, 64, 64, 64]          --\n",
      "|    └─DoubleSDWConv: 2-2                     [-1, 64, 64, 64]          --\n",
      "|    |    └─SDWConv: 3-4                      [-1, 64, 64, 64]          2,432\n",
      "|    |    └─SDWConv: 3-5                      [-1, 64, 64, 64]          4,800\n",
      "|    |    └─SE: 3-6                           [-1, 64, 64, 64]          1,354\n",
      "├─MaxPool2d: 1-4                              [-1, 64, 32, 32]          --\n",
      "├─ConvLayer: 1-5                              [-1, 128, 32, 32]         --\n",
      "|    └─DoubleSDWConv: 2-3                     [-1, 128, 32, 32]         --\n",
      "|    |    └─SDWConv: 3-7                      [-1, 128, 32, 32]         9,216\n",
      "|    |    └─SDWConv: 3-8                      [-1, 128, 32, 32]         18,304\n",
      "|    |    └─SE: 3-9                           [-1, 128, 32, 32]         5,525\n",
      "├─MaxPool2d: 1-6                              [-1, 128, 16, 16]         --\n",
      "├─ConvLayer: 1-7                              [-1, 256, 16, 16]         --\n",
      "|    └─DoubleSDWConv: 2-4                     [-1, 256, 16, 16]         --\n",
      "|    |    └─SDWConv: 3-10                     [-1, 256, 16, 16]         34,816\n",
      "|    |    └─SDWConv: 3-11                     [-1, 256, 16, 16]         69,376\n",
      "|    |    └─SE: 3-12                          [-1, 256, 16, 16]         21,802\n",
      "├─MaxPool2d: 1-8                              [-1, 256, 8, 8]           --\n",
      "├─BottleNeck: 1-9                             [-1, 512, 8, 8]           --\n",
      "|    └─Conv2d: 2-5                            [-1, 128, 8, 8]           32,896\n",
      "|    └─AxialConvDW: 2-6                       [-1, 128, 8, 8]           --\n",
      "|    |    └─Conv2d: 3-13                      [-1, 128, 8, 8]           1,024\n",
      "|    |    └─Conv2d: 3-14                      [-1, 128, 8, 8]           1,024\n",
      "|    └─AxialConvDW: 2-7                       [-1, 128, 8, 8]           --\n",
      "|    |    └─Conv2d: 3-15                      [-1, 128, 8, 8]           1,024\n",
      "|    |    └─Conv2d: 3-16                      [-1, 128, 8, 8]           1,024\n",
      "|    └─AxialConvDW: 2-8                       [-1, 128, 8, 8]           --\n",
      "|    |    └─Conv2d: 3-17                      [-1, 128, 8, 8]           1,024\n",
      "|    |    └─Conv2d: 3-18                      [-1, 128, 8, 8]           1,024\n",
      "|    └─BatchNorm2d: 2-9                       [-1, 512, 8, 8]           1,024\n",
      "|    └─Conv2d: 2-10                           [-1, 512, 8, 8]           262,656\n",
      "|    └─GELU: 2-11                             [-1, 512, 8, 8]           --\n",
      "|    └─SE: 2-12                               [-1, 512, 8, 8]           --\n",
      "|    |    └─AdaptiveAvgPool2d: 3-19           [-1, 512, 1, 1]           --\n",
      "|    |    └─Sequential: 3-20                  [-1, 512]                 131,712\n",
      "├─Upsample: 1-10                              [-1, 64, 128, 128]        --\n",
      "├─ConvLayer: 1-11                             [-1, 32, 128, 128]        --\n",
      "|    └─SDWConv: 2-13                          [-1, 32, 128, 128]        --\n",
      "|    |    └─Sequential: 3-21                  [-1, 32, 128, 128]        4,064\n",
      "├─Upsample: 1-12                              [-1, 128, 64, 64]         --\n",
      "├─ConvLayer: 1-13                             [-1, 64, 64, 64]          --\n",
      "|    └─SDWConv: 2-14                          [-1, 64, 64, 64]          --\n",
      "|    |    └─Sequential: 3-22                  [-1, 64, 64, 64]          14,272\n",
      "├─Upsample: 1-14                              [-1, 256, 32, 32]         --\n",
      "├─ConvLayer: 1-15                             [-1, 128, 32, 32]         --\n",
      "|    └─SDWConv: 2-15                          [-1, 128, 32, 32]         --\n",
      "|    |    └─Sequential: 3-23                  [-1, 128, 32, 32]         54,656\n",
      "├─Upsample: 1-16                              [-1, 512, 16, 16]         --\n",
      "├─ConvLayer: 1-17                             [-1, 256, 16, 16]         --\n",
      "|    └─DoubleSDWConv: 2-16                    [-1, 256, 16, 16]         --\n",
      "|    |    └─SDWConv: 3-24                     [-1, 256, 16, 16]         207,616\n",
      "|    |    └─SDWConv: 3-25                     [-1, 256, 16, 16]         69,376\n",
      "|    |    └─SE: 3-26                          [-1, 256, 16, 16]         21,802\n",
      "├─Upsample: 1-18                              [-1, 64, 128, 128]        --\n",
      "├─ConvLayer: 1-19                             [-1, 32, 128, 128]        --\n",
      "|    └─SDWConv: 2-17                          [-1, 32, 128, 128]        --\n",
      "|    |    └─Sequential: 3-27                  [-1, 32, 128, 128]        5,408\n",
      "├─Upsample: 1-20                              [-1, 128, 64, 64]         --\n",
      "├─ConvLayer: 1-21                             [-1, 64, 64, 64]          --\n",
      "|    └─SDWConv: 2-18                          [-1, 64, 64, 64]          --\n",
      "|    |    └─Sequential: 3-28                  [-1, 64, 64, 64]          19,008\n",
      "├─Upsample: 1-22                              [-1, 256, 32, 32]         --\n",
      "├─ConvLayer: 1-23                             [-1, 128, 32, 32]         --\n",
      "|    └─DoubleSDWConv: 2-19                    [-1, 128, 32, 32]         --\n",
      "|    |    └─SDWConv: 3-29                     [-1, 128, 32, 32]         72,832\n",
      "|    |    └─SDWConv: 3-30                     [-1, 128, 32, 32]         18,304\n",
      "|    |    └─SE: 3-31                          [-1, 128, 32, 32]         5,525\n",
      "├─Upsample: 1-24                              [-1, 64, 128, 128]        --\n",
      "├─ConvLayer: 1-25                             [-1, 32, 128, 128]        --\n",
      "|    └─SDWConv: 2-20                          [-1, 32, 128, 128]        --\n",
      "|    |    └─Sequential: 3-32                  [-1, 32, 128, 128]        6,752\n",
      "├─Upsample: 1-26                              [-1, 128, 64, 64]         --\n",
      "├─ConvLayer: 1-27                             [-1, 64, 64, 64]          --\n",
      "|    └─DoubleSDWConv: 2-21                    [-1, 64, 64, 64]          --\n",
      "|    |    └─SDWConv: 3-33                     [-1, 64, 64, 64]          23,744\n",
      "|    |    └─SDWConv: 3-34                     [-1, 64, 64, 64]          4,800\n",
      "|    |    └─SE: 3-35                          [-1, 64, 64, 64]          1,354\n",
      "├─Upsample: 1-28                              [-1, 64, 128, 128]        --\n",
      "├─ConvLayer: 1-29                             [-1, 32, 128, 128]        --\n",
      "|    └─DoubleSDWConv: 2-22                    [-1, 32, 128, 128]        --\n",
      "|    |    └─SDWConv: 3-36                     [-1, 32, 128, 128]        8,096\n",
      "|    |    └─SDWConv: 3-37                     [-1, 32, 128, 128]        1,376\n",
      "|    |    └─SE: 3-38                          [-1, 32, 128, 128]        357\n",
      "├─Conv2d: 1-30                                [-1, 1, 128, 128]         33\n",
      "===============================================================================================\n",
      "Total params: 1,143,323\n",
      "Trainable params: 1,143,323\n",
      "Non-trainable params: 0\n",
      "Total mult-adds (M): 392.35\n",
      "===============================================================================================\n",
      "Input size (MB): 0.19\n",
      "Forward/backward pass size (MB): 83.07\n",
      "Params size (MB): 4.36\n",
      "Estimated Total Size (MB): 87.62\n",
      "===============================================================================================\n"
     ]
    }
   ],
   "source": [
    "if __name__ == \"__main__\":\n",
    "    inputs = torch.randn((8, 3, 128,128))\n",
    "    model = LiteNestedUNet()\n",
    "    model.eval()\n",
    "    model.deep_supervision = False\n",
    "    outputs = model(inputs)\n",
    "    print(outputs.size())\n",
    "    summary(model, (3,128,128))"
   ]
  },
  {
   "cell_type": "markdown",
   "id": "955c94fb",
   "metadata": {},
   "source": [
    "### Calculate GFLOPs of model"
   ]
  },
  {
   "cell_type": "code",
   "execution_count": 34,
   "id": "1ac06a32",
   "metadata": {},
   "outputs": [
    {
     "name": "stdout",
     "output_type": "stream",
     "text": [
      "Params: 1.14 M\n",
      "MACs: 1.06 GMac\n",
      "FLOPs: 2.11 GFLOPs\n"
     ]
    }
   ],
   "source": [
    "from ptflops import get_model_complexity_info\n",
    "\n",
    "model = LiteNestedUNet(deep_supervision=False).eval()\n",
    "mac, params = get_model_complexity_info(model, (3,128,128),\n",
    "                                        as_strings=False,\n",
    "                                        print_per_layer_stat=False)\n",
    "print(f\"Params: {params/1e6:.2f} M\")\n",
    "print(f\"MACs: {mac/1e9:.2f} GMac\")\n",
    "print(f\"FLOPs: {2*mac/1e9:.2f} GFLOPs\")"
   ]
  },
  {
   "cell_type": "markdown",
   "id": "70237209",
   "metadata": {},
   "source": [
    "## **Data Science Bowl (DSB) 2018 Nuclei dataset**"
   ]
  },
  {
   "cell_type": "code",
   "execution_count": 35,
   "id": "008b7216",
   "metadata": {},
   "outputs": [],
   "source": [
    "TRAIN_DIR = '../data_temp/DSB_2018/data-science-bowl-2018/stage1_train'\n",
    "TRAIN_MASKS_DIR = '../data_temp/DSB_2018/data-science-bowl-2018/stage1_train_combinedmasks'\n",
    "TEST_DIR = '../data_temp/DSB_2018/data-science-bowl-2018/stage1_test'\n",
    "\n",
    "IMG_HEIGHT = 128\n",
    "IMG_WIDTH = 128"
   ]
  },
  {
   "cell_type": "code",
   "execution_count": 36,
   "id": "89381f99",
   "metadata": {},
   "outputs": [],
   "source": [
    "train_dirs = next(os.walk(top = TRAIN_DIR, topdown=True))[1]\n",
    "test_dirs = next(os.walk(top = TEST_DIR, topdown=True))[1]\n",
    "masks_filenames = next(os.walk(top=TRAIN_MASKS_DIR,topdown=True))[2]"
   ]
  },
  {
   "cell_type": "markdown",
   "id": "ef48a3f1",
   "metadata": {},
   "source": [
    "- `os.walk()` returns **directory path** (path to the folder), **sub-directory** (sub-folders) names and **file names**"
   ]
  },
  {
   "cell_type": "markdown",
   "id": "9e60d0f8",
   "metadata": {},
   "source": [
    "- Split train dataset into *train and evaluation set, 80:20*"
   ]
  },
  {
   "cell_type": "code",
   "execution_count": 37,
   "id": "2fe47bdd",
   "metadata": {},
   "outputs": [],
   "source": [
    "train_dirs = next(os.walk(top = TRAIN_DIR, topdown=True))[1]\n",
    "train_ids, eval_ids = train_test_split(train_dirs, test_size=0.2, shuffle=True, random_state=18)"
   ]
  },
  {
   "cell_type": "markdown",
   "id": "2fe45bda",
   "metadata": {},
   "source": [
    "### **Custom class for DSB 2018** nuclei dataset"
   ]
  },
  {
   "cell_type": "code",
   "execution_count": 38,
   "id": "d6147243",
   "metadata": {},
   "outputs": [],
   "source": [
    "class DSB2018_Dataset (torch.utils.data.Dataset):\n",
    "    def __init__ (self, set_type, \n",
    "                  size = (IMG_HEIGHT, IMG_WIDTH), \n",
    "                  joint_transform = None, \n",
    "                  train_ids = train_ids, \n",
    "                  eval_ids = eval_ids, \n",
    "                  binary_mask = True,\n",
    "                  distance_map = False,\n",
    "                  clip_dist = None,\n",
    "                  normalize_phi = True):\n",
    "        \n",
    "        self.joint_transform = joint_transform\n",
    "        self.binary_mask = binary_mask\n",
    "        self.distance_map = distance_map\n",
    "        self.clip_dist = clip_dist\n",
    "        self.normalize_phi = normalize_phi\n",
    "\n",
    "        # Check for dataset type and assign correct list of sample ids (folder names)\n",
    "        if set_type.lower() == 'train':\n",
    "            self.data_ids = train_ids  \n",
    "        elif set_type.lower() == 'eval':\n",
    "            self.data_ids = eval_ids\n",
    "        else: raise ValueError('Dataset type must be \\'train\\' or \\'eval\\'.')\n",
    "\n",
    "        self.img_resize = v2.Resize(size=size, interpolation=v2.InterpolationMode.BILINEAR)\n",
    "        self.mask_resize = v2.Resize(size=size, interpolation=v2.InterpolationMode.NEAREST_EXACT)\n",
    "        self.to_float01 = v2.ToDtype(torch.float32,scale=True) #Normalize to [0,1]\n",
    "\n",
    "    def __len__(self):\n",
    "        return len(self.data_ids)\n",
    "    \n",
    "    \n",
    "    def __distance_transform__ (self, mask):\n",
    "        '''\n",
    "        Distance map is needed for boundary-related loss.\n",
    "        Set boolean self.distance_map.\n",
    "        If True then phi and D are returned in addition with image and mask.\n",
    "        '''\n",
    "        mk = mask[0].cpu().numpy().astype(np.uint8) #[1,H,W]->[H,W]\n",
    "        # _edt means Euclidean distance transform \n",
    "        inner_distance = ndi.distance_transform_edt(mk) #This returns the distance to the nearest zero-element\n",
    "        outer_distance = ndi.distance_transform_edt(1-mk)\n",
    "        \n",
    "        phi = outer_distance-inner_distance #Positive outside of the foreground, negative on the inside\n",
    "        D = np.abs(phi)\n",
    "\n",
    "        if self.clip_dist is not None:\n",
    "            phi = np.clip(phi,-self.clip_dist,self.clip_dist)\n",
    "            D   = np.clip(D,0.0,self.clip_dist)\n",
    "\n",
    "        if self.normalize_phi:\n",
    "            abs_mean = np.mean(np.abs(phi)) + 1e-8\n",
    "            phi = phi / abs_mean\n",
    "\n",
    "        phi = torch.from_numpy(phi).unsqueeze(0).to(mask.dtype)\n",
    "        D = torch.from_numpy(D).unsqueeze(0).to(mask.dtype)\n",
    "\n",
    "        return phi,D\n",
    "    \n",
    "    def __getitem__(self, index):\n",
    "\n",
    "        img_id = self.data_ids[index]\n",
    "        img_path = os.path.join(TRAIN_DIR, img_id, 'images', f'{img_id}.png')\n",
    "        mask_path =  os.path.join(TRAIN_MASKS_DIR, f'{img_id}.png')\n",
    "\n",
    "        image = io.decode_image(img_path, mode= 'RGB')\n",
    "        mask = io.decode_image(mask_path, mode = 'GRAY')\n",
    "\n",
    "        if self.joint_transform is not None:\n",
    "            image, mask = self.joint_transform(image, mask)\n",
    "\n",
    "            if self.distance_map and self.binary_mask:\n",
    "                phi,D = self.__distance_transform__(mask)\n",
    "                return image, mask, phi, D\n",
    "            \n",
    "            return image, mask\n",
    "        else:\n",
    "            image = self.img_resize(image)\n",
    "            image = self.to_float01(image)\n",
    "            \n",
    "            mask = self.mask_resize(mask)\n",
    "            if mask.ndim == 2:\n",
    "                mask = mask.unsqueeze(0)\n",
    "            \n",
    "           # ---Mask binarization & handling dtype--- (Last for safety)\n",
    "            if self.binary_mask:\n",
    "                mask = (mask>0).to(torch.float32) \n",
    "            else: # Multi-class segment, which would expect mask to be of long dtype\n",
    "                mask = mask.to(torch.long)\n",
    "            \n",
    "            if self.distance_map and self.binary_mask:\n",
    "                phi,D = self.__distance_transform__(mask)\n",
    "                return image, mask, phi, D\n",
    "\n",
    "            return image, mask\n"
   ]
  },
  {
   "cell_type": "markdown",
   "id": "7947f734",
   "metadata": {},
   "source": [
    "### Data augmentation"
   ]
  },
  {
   "cell_type": "code",
   "execution_count": 39,
   "id": "567cabee",
   "metadata": {},
   "outputs": [],
   "source": [
    "class JointTransform: \n",
    "# Takes both numpy and torch tensors\n",
    "    def __init__(self, resize = (IMG_HEIGHT+32, IMG_WIDTH+32), size = (IMG_HEIGHT,IMG_WIDTH), binary_mask = True):\n",
    "        self.size = size #True size\n",
    "        self.normalize = v2.Normalize(mean = [0.485, 0.456, 0.406], \n",
    "                                      std = [0.229, 0.224, 0.225])\n",
    "        self.img_resize = v2.Resize(size=resize, interpolation=v2.InterpolationMode.BILINEAR)#Resizing size is bigger because we want to perform random crop\n",
    "        self.mask_resize = v2.Resize(size=resize, interpolation=v2.InterpolationMode.NEAREST_EXACT)\n",
    "        self.to_float01 = v2.ToDtype(torch.float32,scale=True) #Normalize to [0,1]\n",
    "        self.binary_mask = binary_mask\n",
    "    \n",
    "    def _to_torch_tensor(self, input): # Accept both numpy arrays and tensors\n",
    "        if isinstance(input, np.ndarray):\n",
    "            tensor = torch.from_numpy(input) #(H,W,C) - numpy array or (H,W)\n",
    "            if tensor.ndim == 2: #(H,W)\n",
    "                tensor = tensor.unsqueeze(-1) #(H,W,1)\n",
    "            tensor = tensor.permute(2,0,1)\n",
    "        else: # Tensor (C,H,W)\n",
    "            tensor = input\n",
    "            if tensor.ndim == 2: #(H,W)\n",
    "                tensor = tensor.unsqueeze(0) #(1,H,W)\n",
    "        return tensor\n",
    "        \n",
    "    def __call__(self, image, mask):\n",
    "        #Convert ndarray to tensor\n",
    "        image = self._to_torch_tensor(image)\n",
    "        image = self.to_float01(image)\n",
    "\n",
    "        mask = self._to_torch_tensor(mask)\n",
    "        mask = mask[:1,:,:] #Ensure that mask has only one channel\n",
    "\n",
    "        # ---Resizing---\n",
    "        image = self.img_resize(image)\n",
    "        mask = self.mask_resize(mask)\n",
    "\n",
    "        # ---Random crop---\n",
    "        # i,j are the coordinates that signifies where to start cropping\n",
    "        i,j,h,w = v2.RandomCrop.get_params(image, output_size=self.size)\n",
    "        image = F.crop(image, i,j,h,w)\n",
    "        mask = F.crop(mask, i,j,h,w)\n",
    "        \n",
    "        # ---Random horizontal flip---\n",
    "        if random.random() > 0.5:\n",
    "            image = F.hflip(image)\n",
    "            mask = F.hflip(mask)\n",
    "        \n",
    "        # ---Random vertical flip---\n",
    "        if random.random() > 0.5:\n",
    "            image = F.vflip(image)\n",
    "            mask = F.vflip(mask)\n",
    "        \n",
    "        # ---Random rotation---\n",
    "        if random.random() > 0.5:\n",
    "            angle = random.uniform(-10, 10)\n",
    "            image = F.rotate(image, angle=angle,\n",
    "                             interpolation=v2.InterpolationMode.BILINEAR, fill = 0.0)\n",
    "            mask = F.rotate(mask, angle=angle, \n",
    "                            interpolation=v2.InterpolationMode.NEAREST)\n",
    "\n",
    "        # ---Mask binarization & handling dtype--- (Last for safety)\n",
    "        if self.binary_mask:\n",
    "            mask = (mask>0).to(torch.float32) \n",
    "        else: # Multi-class segment, which would expect mask to be of long dtype\n",
    "            mask = mask.to(torch.long)\n",
    "\n",
    "        # ---Normalized the image---\n",
    "        image = self.normalize(image)\n",
    "        \n",
    "        '''\n",
    "        Size:[1,H,W]\n",
    "        '''\n",
    "        return image, mask"
   ]
  },
  {
   "cell_type": "markdown",
   "id": "8ab7532e",
   "metadata": {},
   "source": [
    "### Illustration of the DSB 2018 dataset"
   ]
  },
  {
   "cell_type": "code",
   "execution_count": 40,
   "id": "59505b21",
   "metadata": {},
   "outputs": [
    {
     "name": "stdout",
     "output_type": "stream",
     "text": [
      "torch.Size([16, 3, 128, 128]) torch.Size([16, 1, 128, 128])\n",
      "Current index: 2\n"
     ]
    },
    {
     "data": {
      "image/png": "[encoded data removed]",
      "text/plain": [
       "<Figure size 1800x800 with 3 Axes>"
      ]
     },
     "metadata": {},
     "output_type": "display_data"
    }
   ],
   "source": [
    "# Test the custom class with DataLoader\n",
    "train_data = DSB2018_Dataset(set_type='train', \n",
    "                             joint_transform= JointTransform(),\n",
    "                             distance_map=True,\n",
    "                             binary_mask=True)\n",
    "trn_dl = DataLoader(train_data, batch_size = 16, shuffle = True)\n",
    "img, mk, phi, D = next(iter(trn_dl))\n",
    "\n",
    "\n",
    "# Assume img is a tensor with shape (1, 3, 224, 224)\n",
    "a = random.randint(0,11)\n",
    "img_rgb = img[a]  # Remove batch dimension → shape: (3, 224, 224)\n",
    "mask_gray = mk[a]\n",
    "\n",
    "# Convert from (C, H, W) → (H, W, C)\n",
    "img_rgb = img_rgb.permute(1, 2, 0).numpy()  # shape: (224, 224, 3)\n",
    "mask_gray = mask_gray.permute(1,2,0).numpy() \n",
    "# Denormalize if it was normalized (e.g., ImageNet normalization)\n",
    "\n",
    "mean = [0.485, 0.456, 0.406]\n",
    "std  = [0.229, 0.224, 0.225]\n",
    "img_rgb = img_rgb * std + mean\n",
    "img_rgb = np.clip(img_rgb, 0, 1) # CLipping the array into [0,1]\n",
    "\n",
    "# Scale to [0,255] and convert to uint8\n",
    "img_rgb = (img_rgb * 255).astype(np.uint8)\n",
    "mask_gray = mask_gray.astype(np.uint8)\n",
    "\n",
    "# Convert to PIL and show\n",
    "plt.figure(figsize = (18,8))\n",
    "plt.axis('off')\n",
    "plt.subplot(1,2,1)\n",
    "plt.imshow(img_rgb) #plt.imshow() can function with range [0,1] as float32 and [0,255] as uint8\n",
    "plt.title('Image from batch')\n",
    "\n",
    "plt.subplot(1,2,2)\n",
    "plt.imshow(mask_gray, cmap= 'gray') #12 classes in total => The class 11 would be 1 (brightest) which is white.\n",
    "# since [Normalized value = data-vmin/vmax - vmin]\n",
    "# `vmin` and `vmax` control the mapping of data values to colors within a colormap. \n",
    "#They define the data range that the colormap will cover.\n",
    "plt.title('Mask from batch')\n",
    "print(img.shape, mk.shape)\n",
    "print(f'Current index: {a}')\n",
    "\n",
    "plt.show()"
   ]
  },
  {
   "cell_type": "markdown",
   "id": "6415e812",
   "metadata": {},
   "source": [
    "### Visualization of distance maps (for Boundary Loss), **$\\phi$** and **D**"
   ]
  },
  {
   "cell_type": "code",
   "execution_count": 41,
   "id": "a7661c17",
   "metadata": {},
   "outputs": [
    {
     "data": {
      "image/png": "[encoded data removed]",
      "text/plain": [
       "<Figure size 1400x500 with 6 Axes>"
      ]
     },
     "metadata": {},
     "output_type": "display_data"
    }
   ],
   "source": [
    "import numpy as np\n",
    "import torch\n",
    "import matplotlib.pyplot as plt\n",
    "import random\n",
    "\n",
    "# Suppose your batch has distance maps:\n",
    "# img: [B,3,H,W], mask: [B,1,H,W], phi: [B,1,H,W], D: [B,1,H,W]\n",
    "\n",
    "# ---Image---\n",
    "img_rgb = img[a].permute(1,2,0).cpu().numpy()  # [H,W,3], float\n",
    "# If you used ImageNet norm earlier and want to view:\n",
    "mean = np.array([0.485, 0.456, 0.406])[None,None,:]\n",
    "std  = np.array([0.229, 0.224, 0.225])[None,None,:]\n",
    "img_vis = np.clip(img_rgb * std + mean, 0, 1)\n",
    "\n",
    "# ---Distance maps(2D float)---\n",
    "D2d   = D[a, 0].cpu().numpy()      # [H,W]\n",
    "phi2d = phi[a, 0].cpu().numpy()    # [H,W]\n",
    "\n",
    "# Optional: show a clipped band so contrast is nicer\n",
    "T = 3\n",
    "D_band = np.clip(D2d, 0, T)        # still float\n",
    "# For signed phi, keep 0 centered:\n",
    "phi_clip = np.clip(phi2d, -T, T)\n",
    "\n",
    "plt.figure(figsize=(14,5)); plt.axis('off')\n",
    "plt.subplot(1,3,1); plt.imshow(img_vis); plt.title('Image')\n",
    "plt.subplot(1,3,2); plt.imshow(D_band, cmap='gray', vmin=0, vmax=T); plt.title('Unsigned D (0..20 px)'); plt.colorbar(fraction=0.046, pad=0.04)\n",
    "plt.subplot(1,3,3); plt.imshow(phi_clip, cmap='seismic'); plt.title('Signed φ (−20..20 px)'); plt.colorbar(fraction=0.046, pad=0.04)\n",
    "plt.tight_layout(); plt.show()\n"
   ]
  },
  {
   "cell_type": "markdown",
   "id": "1f6d1f97",
   "metadata": {},
   "source": [
    "## ***Loss functions and Metrics***"
   ]
  },
  {
   "cell_type": "markdown",
   "id": "cae7628b",
   "metadata": {},
   "source": [
    "### **Dice score** and **IoU** to evaluate semantic segmentation"
   ]
  },
  {
   "cell_type": "markdown",
   "id": "b9fce4b0",
   "metadata": {},
   "source": [
    "- **Dice score** is defined as:\n",
    "$$\n",
    "\\text{Dice score} = \\frac{2\\times\\text{TP}}{(\\text{TP}+\\text{FP})+(\\text{TP}+\\text{FN})+\\epsilon}\n",
    "$$\n",
    "- **IoU** (Intersection over Union) is defined as:\n",
    "$$\n",
    "\\text{IoU} = \\frac{\\text{Dice score}}{2-\\text{Dice score} + \\epsilon}\n",
    "$$"
   ]
  },
  {
   "cell_type": "code",
   "execution_count": 42,
   "id": "1738b711",
   "metadata": {},
   "outputs": [],
   "source": [
    "def Dice_IoU(pred, mask, epsilon = 1e-6):\n",
    "    # Case 1: Pred's shape is [N,2,H,W], binary is 2 classes, this was treated like multi class segmentation\n",
    "    if pred.ndim == 4 and pred.shape[1]==2:\n",
    "        pred = pred.argmax(dim = 1).unsqueeze(1) # [N,2,H,W] -> [N,H,W]\n",
    "\n",
    "    # Case 2: Pred's shape is [N,H,W] -> [N,1,H,W]\n",
    "    elif pred.ndim == 4:\n",
    "        pred = pred.squeeze(1) # [N,1,H,w] -> [N,H,W]\n",
    "    \n",
    "    pred = pred.to(torch.float32)\n",
    "\n",
    "    if pred.dtype.is_floating_point and (pred.min()<0 or pred.max()>1): # Check if the pred pixel values are float, neccessary for sigmoid function\n",
    "        pred = torch.sigmoid(pred)\n",
    "        pred = (pred >= 0.5)\n",
    "\n",
    "    mask = (mask > 0).to(torch.float32)\n",
    "\n",
    "    intersection = (pred*mask).sum(dim=(1,2))\n",
    "    union = pred.sum(dim=(1,2)) + mask.sum(dim=(1,2))\n",
    "    \n",
    "    dice = (2*intersection + epsilon)/(union + epsilon) # [N], dice score for each sample in the batch\n",
    "    iou = dice/(2-dice +epsilon)\n",
    "\n",
    "    return dice.mean().item(), iou.mean().item()"
   ]
  },
  {
   "cell_type": "markdown",
   "id": "e98ee6b6",
   "metadata": {},
   "source": [
    "### **Focal loss**\n",
    "**Focal loss** formula can be expressed as:\n",
    "$$\n",
    "\\text{FL}(p_t) = -{\\alpha}_t(1-p_t)^{\\gamma}\\log(p_t)\n",
    "$$\n",
    "$$\n",
    "\\text{Binary Cross Entropy Loss} = -\\log(p_t)\n",
    "$$\n",
    "$$\n",
    "\\text{FL}(p_t) = {\\alpha}_t(1-p_t)^{\\gamma}(\\text{BCE}(p_t))\n",
    "$$\n",
    "With:\n",
    "- $\\alpha_t$ is the balance factor to oppose class imbalance, for binary segmentation:\n",
    "$$\n",
    "\\alpha_t =\\begin{cases}\\alpha, & y = 1 \\\\1 - \\alpha, & y = 0\\end{cases}\n",
    "$$"
   ]
  },
  {
   "cell_type": "code",
   "execution_count": 43,
   "id": "402f3a3d",
   "metadata": {},
   "outputs": [],
   "source": [
    "'''---Focal Loss---'''\n",
    "class BCEFocalLoss(nn.Module):\n",
    "    def __init__(self, gamma= 4/3, alpha=None, reduction='mean'):\n",
    "        super().__init__()\n",
    "        self.gamma = gamma\n",
    "        self.alpha = alpha  # Can be a list/tuple or scalar\n",
    "        self.reduction = reduction\n",
    "\n",
    "    def forward(self, pred, mask):\n",
    "        '''\n",
    "        logits: [B, H, W], mask: [B, H, W] \n",
    "        '''\n",
    "        if pred.ndim==4 and pred.shape[1]==1: \n",
    "            pred = pred.squeeze(1) #[N,1,H,W] -> [N,H,W]\n",
    "        elif pred.ndim != 3: \n",
    "            raise ValueError('Predicted logit is expected to be in the size [N,1,H,W] or [N,H,W]')\n",
    "\n",
    "        if mask.ndim==4 and mask.shape[1]==1: \n",
    "            mask = mask.squeeze(1) # [N,1,H,W] -> [N,H,W]\n",
    "        elif mask.ndim !=3: \n",
    "            raise ValueError('Ground truth mask is expected to be in the size [N,1,H,W] or [N,H,W]')\n",
    "        \n",
    "        mask = mask.to(torch.float32) # Ensure the right dtype of mask, BCE loss requires float\n",
    "\n",
    "        bce = nn.functional.binary_cross_entropy_with_logits(pred, mask, reduction='none')  # [N,]\n",
    "        pt = torch.exp(-bce)  # pt = prob of true class\n",
    "\n",
    "        if self.alpha is not None:\n",
    "            at = self.alpha*mask + (1-self.alpha)*(1-mask)\n",
    "        else: at = 1.0\n",
    "\n",
    "        loss = (at*(1 - pt) ** self.gamma *(bce))\n",
    "\n",
    "        if self.reduction == 'mean':\n",
    "            return loss.mean()\n",
    "        elif self.reduction == 'sum':\n",
    "            return loss.sum()\n",
    "        \n",
    "        return loss  # no reduction"
   ]
  },
  {
   "cell_type": "markdown",
   "id": "0a4d69c5",
   "metadata": {},
   "source": [
    "### **Focal Tversky Loss**:\n",
    "- Tversky Loss but powered by $1/\\gamma$\n",
    "- According to the paper, $\\gamma$ has found the most success at $4/3$\n",
    "$$\n",
    "\\text{FTL(Focal Tversky loss)} = \\frac{1}{\\text{C}}\\sum_{c=1}^{C}(1-\\text{Tversky}_c)^{1/\\gamma} = \\frac{1}{\\text{C}}\\sum_{c=1}^{C}(1-\\text{TI}_c)^{1/\\gamma}\n",
    "$$\n",
    "$$\n",
    "\\text{TI}_c = \\frac{\\text{TP}}{\\text{TP} + \\alpha\\cdot\\text{FP} + \\beta\\cdot\\text{FN} + \\epsilon}\n",
    "$$ "
   ]
  },
  {
   "cell_type": "code",
   "execution_count": 44,
   "id": "8cdc205d",
   "metadata": {},
   "outputs": [],
   "source": [
    "'''---Focal Tversky Loss---'''\n",
    "class FTL(nn.Module):\n",
    "    def __init__(self, alpha = 0.7, beta = 0.3, gamma = 4/3, epsilon = 1e-6, from_logits = True, reduction = 'mean'):\n",
    "        super(FTL, self).__init__()\n",
    "        self.epsilon = epsilon\n",
    "        self.alpha = alpha\n",
    "        self.beta = beta\n",
    "        self.gamma = gamma\n",
    "        self.from_logits = from_logits\n",
    "        self.reduction = reduction\n",
    "    \n",
    "    def forward (self, pred, mask): \n",
    "        '''\n",
    "        Both pred and mask are converted into tensors before passing in\n",
    "        Mask's input shape: [N,H,W]\n",
    "        Logits(Predicted image)'s shape: [N,1,H,W]\n",
    "        logits: [N, H, W] (Raw information), mask: [N, H, W] \n",
    "        '''\n",
    "\n",
    "        # Check for shape\n",
    "        if pred.ndim==4 and pred.shape[1]==1:\n",
    "            pred = pred[:,0,:,:] #[N,1,H,W] -> [N,H,W]\n",
    "        elif pred.ndim != 3: \n",
    "            raise ValueError('Predicted logit is expected to be in the size [N,1,H,W] or [N,H,W]')\n",
    "\n",
    "        if mask.ndim==4 and mask.shape[1]==1:\n",
    "            mask = mask[:,0,:,:] # [N,1,H,W] -> [N,H,W]\n",
    "        elif mask.ndim !=3: \n",
    "            raise ValueError('Ground truth mask is expected to be in the size [N,1,H,W] or [N,H,W]')\n",
    "        \n",
    "        # Datatypes\n",
    "        pred = pred.to(torch.float32)\n",
    "        mask = mask.to(torch.float32)\n",
    "\n",
    "        # logits -> Probability\n",
    "        if self.from_logits: \n",
    "            prob = torch.sigmoid(pred)\n",
    "        else: prob = pred.clamp(0,1)\n",
    "        \n",
    "        # FTL\n",
    "        tp = (prob*mask).sum(dim =(1,2)) #[N,]\n",
    "        fp = (prob*(1.0-mask)).sum(dim=(1,2)) \n",
    "        fn = (mask*(1.0-prob)).sum(dim=(1,2))\n",
    "        tversky_index = (tp+self.epsilon)/(tp+self.alpha*fp+self.beta*fn+self.epsilon) #[N,]\n",
    "        loss = (1-tversky_index)**(1/self.gamma)\n",
    "        \n",
    "        # Reduction\n",
    "        if self.reduction == 'mean':\n",
    "            return loss.mean()\n",
    "        elif self.reduction == 'sum':\n",
    "            return loss.sum()\n",
    "        \n",
    "        return loss  # no reduction"
   ]
  },
  {
   "cell_type": "markdown",
   "id": "440d9104",
   "metadata": {},
   "source": [
    "### **Boundary loss**\n",
    "- Boundary loss is defined as:\n",
    "$$\n",
    "\\mathcal{L}_{\\text{boundary}}(\\theta)\n",
    "= \\langle \\phi_G, \\; s_\\theta \\rangle\n",
    "= \\int_{\\Omega} \\phi_G(p) \\, s_\\theta(p) \\, dp\n",
    "$$\n",
    "With:\n",
    "- $\\phi_G(p)$: signed distance map of the ground truth mask\n",
    "- $s_\\theta(p)$: predicted probability of the true class"
   ]
  },
  {
   "cell_type": "code",
   "execution_count": 45,
   "id": "4bcd5cf2",
   "metadata": {},
   "outputs": [],
   "source": [
    "class BoundaryLoss(nn.Module):\n",
    "    '''\n",
    "    L = <phi_G, s_theta>\n",
    "    - Binary: logits [N,1,H,W], phi [N,1,H,W]\n",
    "    - Multi : logits [N,C,H,W], phi [N,C,H,W] (one phi per class)\n",
    "    Expect phi already prepared (signed distance map in the custom dataset)\n",
    "    '''\n",
    "    def __init__(self, reduction=\"mean\"):\n",
    "        super().__init__()\n",
    "        self.reduction = reduction\n",
    "\n",
    "    def forward(self, logits, phi):\n",
    "        probs = torch.sigmoid(logits) if logits.shape[1] == 1 else F.softmax(logits, dim=1)\n",
    "        loss_map = probs * phi                      # <phi, s>\n",
    "        loss = loss_map.mean(dim=(1,2,3))          # per-sample [N,]\n",
    "        \n",
    "        if self.reduction == \"mean\": \n",
    "            return loss.mean()\n",
    "        if self.reduction == \"sum\":  \n",
    "            return loss.sum()\n",
    "        return loss"
   ]
  },
  {
   "cell_type": "markdown",
   "id": "8734c02d",
   "metadata": {},
   "source": [
    "### Function that gets all the neccessary model, functions, optimizer for training"
   ]
  },
  {
   "cell_type": "code",
   "execution_count": 46,
   "id": "4f528d92",
   "metadata": {},
   "outputs": [],
   "source": [
    "def get_model(UNet = LiteNestedUNet,device = 'cuda',lr = 1e-3,weight_decay = 1e-5, optim = 'Adam', deep_supervision = True):\n",
    "    \n",
    "    #--- Model ---\n",
    "    model = UNet(deep_supervision=deep_supervision).to(device)\n",
    "    \n",
    "    #--- Loss functions ---\n",
    "    focal_tversky_loss = FTL(alpha = 0.3, beta=0.7, gamma=4/3)\n",
    "    focal_loss = BCEFocalLoss(alpha=0.75, gamma=2) \n",
    "    boundary_loss = BoundaryLoss(reduction='mean')\n",
    "    \n",
    "    #--- Optimizers ---\n",
    "    if optim == 'Adam':\n",
    "        optimizer = Adam(model.parameters(), lr = lr, weight_decay = weight_decay) \n",
    "    elif optim == 'SGD':\n",
    "        optimizer = SGD(model.parameters(), momentum=0.9, nesterov=True,lr = lr, weight_decay = weight_decay) \n",
    "    else: \n",
    "        raise ValueError('Unsupported Optimizer')\n",
    "    \n",
    "    return model, focal_tversky_loss, focal_loss, boundary_loss, optimizer"
   ]
  },
  {
   "cell_type": "markdown",
   "id": "15d14a51",
   "metadata": {},
   "source": [
    "### Train batch function"
   ]
  },
  {
   "cell_type": "code",
   "execution_count": 47,
   "id": "0cbbdcfd",
   "metadata": {},
   "outputs": [],
   "source": [
    "def train_batch(model,data_batch,optimizer,\n",
    "                focal_tversky_loss,focal_loss,boundary_loss,\n",
    "                device = 'cuda', deep_supervision = True,\n",
    "                head_weights = [0.1,0.1,0.2,0.6],\n",
    "                w_bdry = 0.4, w_ftl = 0.6, w_fl = 0):\n",
    "    model.train()\n",
    "    \n",
    "    img, mask, phi, D = data_batch\n",
    "    img = img.to(device)\n",
    "    mask = mask.to(device)\n",
    "    phi = phi.to(device)\n",
    "    D = D.to(device)\n",
    "    \n",
    "    if mask.ndim == 4 and mask.shape[1] == 1:\n",
    "        mask = mask.squeeze(1)  # -> [N,H,W]\n",
    "        \n",
    "    mask = (mask > 0).to(torch.float32)\n",
    "\n",
    "    optimizer.zero_grad()\n",
    "    \n",
    "    #---Deep supervision---\n",
    "    if deep_supervision:\n",
    "        logits = model(img) \n",
    "        total_loss = 0.0\n",
    "\n",
    "        for logit, w in zip(logits,head_weights):\n",
    "            loss = w_ftl*focal_tversky_loss(logit, mask) + w_fl*focal_loss(logit,mask) + w_bdry*boundary_loss(logit, phi)\n",
    "            total_loss += loss*w\n",
    "\n",
    "        total_loss.backward()\n",
    "        optimizer.step() \n",
    "\n",
    "        final_logit = torch.stack(logits, dim=0).float().mean(dim=0) #Average of the deep supervision outputs\n",
    "        final_pred = (torch.sigmoid(final_logit)>=0.5)\n",
    "        dice, iou = Dice_IoU(final_pred,mask)\n",
    "        pixel_acc = (final_pred==mask).float().mean()\n",
    "\n",
    "        return total_loss.item(), dice, iou, pixel_acc\n",
    "    \n",
    "    #---Without deep supervision---\n",
    "    else:\n",
    "        logit = model(img)\n",
    "        loss = w_ftl*focal_tversky_loss(logit, mask)  + w_fl*focal_loss(logits,mask)+ w_bdry*boundary_loss(logit, phi)\n",
    "\n",
    "        loss.backward()\n",
    "        optimizer.step()\n",
    "\n",
    "        pred = (torch.sigmoid(logit.float())>=0.5) \n",
    "        dice, iou = Dice_IoU(pred,mask)\n",
    "        pixel_acc = (pred==mask).float().mean()\n",
    "\n",
    "        return loss.item(), dice, iou, pixel_acc\n",
    "   "
   ]
  },
  {
   "cell_type": "markdown",
   "id": "2461a3e0",
   "metadata": {},
   "source": [
    "## ***Training***"
   ]
  },
  {
   "cell_type": "code",
   "execution_count": 48,
   "id": "b2a3fbdd",
   "metadata": {},
   "outputs": [],
   "source": [
    "train_data = DSB2018_Dataset(set_type='train', \n",
    "                             joint_transform= JointTransform(),\n",
    "                             distance_map=True,\n",
    "                             binary_mask=True)\n",
    "trn_dl = DataLoader(train_data, batch_size = 16, shuffle = True)\n",
    "img, mk, phi, D = next(iter(trn_dl))"
   ]
  },
  {
   "cell_type": "code",
   "execution_count": 49,
   "id": "8cf5d6aa",
   "metadata": {},
   "outputs": [],
   "source": [
    "#Warming up for boundary loss\n",
    "def ramp_weight(epoch, start=3, end=15, max_w=0.2):\n",
    "    if epoch < start:\n",
    "        return 0.0\n",
    "    if epoch >= end:\n",
    "        return max_w\n",
    "    # linear ramp\n",
    "    return max_w * (epoch - start) / (end - start)"
   ]
  },
  {
   "cell_type": "code",
   "execution_count": 50,
   "id": "0eaacf91",
   "metadata": {},
   "outputs": [
    {
     "name": "stdout",
     "output_type": "stream",
     "text": [
      "torch.Size([16, 3, 128, 128]) torch.Size([16, 1, 128, 128])\n"
     ]
    },
    {
     "name": "stderr",
     "output_type": "stream",
     "text": [
      "CURRENT EPOCH: 0: 100%|██████████| 34/34 [00:12<00:00,  2.69it/s]\n"
     ]
    },
    {
     "name": "stdout",
     "output_type": "stream",
     "text": [
      "Learning rate: 0.001000\n",
      "Epoch loss = 0.4908, pixel accuracy = 42.4252%\n",
      "Dice score = 45.9006%, IoU = 34.1741%\n",
      "\n"
     ]
    },
    {
     "name": "stderr",
     "output_type": "stream",
     "text": [
      "CURRENT EPOCH: 1: 100%|██████████| 34/34 [00:07<00:00,  4.77it/s]\n"
     ]
    },
    {
     "name": "stdout",
     "output_type": "stream",
     "text": [
      "Learning rate: 0.001000\n",
      "Epoch loss = 0.3178, pixel accuracy = 67.8756%\n",
      "Dice score = 79.2986%, IoU = 68.2100%\n",
      "\n"
     ]
    },
    {
     "name": "stderr",
     "output_type": "stream",
     "text": [
      "CURRENT EPOCH: 2: 100%|██████████| 34/34 [00:07<00:00,  4.84it/s]\n"
     ]
    },
    {
     "name": "stdout",
     "output_type": "stream",
     "text": [
      "Learning rate: 0.001000\n",
      "Epoch loss = 0.1847, pixel accuracy = 68.2422%\n",
      "Dice score = 85.1042%, IoU = 75.8066%\n",
      "\n"
     ]
    },
    {
     "name": "stderr",
     "output_type": "stream",
     "text": [
      "CURRENT EPOCH: 3: 100%|██████████| 34/34 [00:07<00:00,  4.81it/s]\n"
     ]
    },
    {
     "name": "stdout",
     "output_type": "stream",
     "text": [
      "Learning rate: 0.001000\n",
      "Epoch loss = 0.1622, pixel accuracy = 68.0326%\n",
      "Dice score = 86.0690%, IoU = 77.1643%\n",
      "\n"
     ]
    },
    {
     "name": "stderr",
     "output_type": "stream",
     "text": [
      "CURRENT EPOCH: 4: 100%|██████████| 34/34 [00:06<00:00,  4.86it/s]\n"
     ]
    },
    {
     "name": "stdout",
     "output_type": "stream",
     "text": [
      "Learning rate: 0.001000\n",
      "Epoch loss = 0.1510, pixel accuracy = 68.1893%\n",
      "Dice score = 86.4443%, IoU = 77.6318%\n",
      "\n"
     ]
    },
    {
     "name": "stderr",
     "output_type": "stream",
     "text": [
      "CURRENT EPOCH: 5: 100%|██████████| 34/34 [00:07<00:00,  4.85it/s]\n"
     ]
    },
    {
     "name": "stdout",
     "output_type": "stream",
     "text": [
      "Learning rate: 0.001000\n",
      "Epoch loss = 0.1400, pixel accuracy = 68.1892%\n",
      "Dice score = 87.0633%, IoU = 78.6009%\n",
      "\n"
     ]
    },
    {
     "name": "stderr",
     "output_type": "stream",
     "text": [
      "CURRENT EPOCH: 6: 100%|██████████| 34/34 [00:06<00:00,  5.00it/s]\n"
     ]
    },
    {
     "name": "stdout",
     "output_type": "stream",
     "text": [
      "Learning rate: 0.001000\n",
      "Epoch loss = 0.1337, pixel accuracy = 67.9596%\n",
      "Dice score = 87.2408%, IoU = 78.7776%\n",
      "\n"
     ]
    },
    {
     "name": "stderr",
     "output_type": "stream",
     "text": [
      "CURRENT EPOCH: 7: 100%|██████████| 34/34 [00:06<00:00,  5.01it/s]\n"
     ]
    },
    {
     "name": "stdout",
     "output_type": "stream",
     "text": [
      "Learning rate: 0.001000\n",
      "Epoch loss = 0.1225, pixel accuracy = 68.6407%\n",
      "Dice score = 88.0423%, IoU = 79.8172%\n",
      "\n"
     ]
    },
    {
     "name": "stderr",
     "output_type": "stream",
     "text": [
      "CURRENT EPOCH: 8: 100%|██████████| 34/34 [00:06<00:00,  4.97it/s]\n"
     ]
    },
    {
     "name": "stdout",
     "output_type": "stream",
     "text": [
      "Learning rate: 0.001000\n",
      "Epoch loss = 0.1226, pixel accuracy = 68.3622%\n",
      "Dice score = 87.7777%, IoU = 79.4663%\n",
      "\n"
     ]
    },
    {
     "name": "stderr",
     "output_type": "stream",
     "text": [
      "CURRENT EPOCH: 9: 100%|██████████| 34/34 [00:06<00:00,  5.00it/s]\n"
     ]
    },
    {
     "name": "stdout",
     "output_type": "stream",
     "text": [
      "Learning rate: 0.001000\n",
      "Epoch loss = 0.1163, pixel accuracy = 68.1948%\n",
      "Dice score = 87.5755%, IoU = 79.2719%\n",
      "\n"
     ]
    },
    {
     "name": "stderr",
     "output_type": "stream",
     "text": [
      "CURRENT EPOCH: 10: 100%|██████████| 34/34 [00:06<00:00,  5.02it/s]\n"
     ]
    },
    {
     "name": "stdout",
     "output_type": "stream",
     "text": [
      "Learning rate: 0.001000\n",
      "Epoch loss = 0.1064, pixel accuracy = 68.3780%\n",
      "Dice score = 88.5299%, IoU = 80.3364%\n",
      "\n"
     ]
    },
    {
     "name": "stderr",
     "output_type": "stream",
     "text": [
      "CURRENT EPOCH: 11: 100%|██████████| 34/34 [00:06<00:00,  5.01it/s]\n"
     ]
    },
    {
     "name": "stdout",
     "output_type": "stream",
     "text": [
      "Learning rate: 0.001000\n",
      "Epoch loss = 0.1029, pixel accuracy = 68.2636%\n",
      "Dice score = 88.3638%, IoU = 80.2444%\n",
      "\n"
     ]
    },
    {
     "name": "stderr",
     "output_type": "stream",
     "text": [
      "CURRENT EPOCH: 12: 100%|██████████| 34/34 [00:06<00:00,  4.95it/s]\n"
     ]
    },
    {
     "name": "stdout",
     "output_type": "stream",
     "text": [
      "Learning rate: 0.001000\n",
      "Epoch loss = 0.0986, pixel accuracy = 68.4656%\n",
      "Dice score = 88.3386%, IoU = 80.1428%\n",
      "\n"
     ]
    },
    {
     "name": "stderr",
     "output_type": "stream",
     "text": [
      "CURRENT EPOCH: 13: 100%|██████████| 34/34 [00:06<00:00,  4.99it/s]\n"
     ]
    },
    {
     "name": "stdout",
     "output_type": "stream",
     "text": [
      "Learning rate: 0.001000\n",
      "Epoch loss = 0.0931, pixel accuracy = 68.1296%\n",
      "Dice score = 88.3861%, IoU = 80.2420%\n",
      "\n"
     ]
    },
    {
     "name": "stderr",
     "output_type": "stream",
     "text": [
      "CURRENT EPOCH: 14: 100%|██████████| 34/34 [00:06<00:00,  5.04it/s]\n"
     ]
    },
    {
     "name": "stdout",
     "output_type": "stream",
     "text": [
      "Learning rate: 0.001000\n",
      "Epoch loss = 0.0879, pixel accuracy = 68.4288%\n",
      "Dice score = 88.5978%, IoU = 80.4900%\n",
      "\n"
     ]
    },
    {
     "name": "stderr",
     "output_type": "stream",
     "text": [
      "CURRENT EPOCH: 15: 100%|██████████| 34/34 [00:06<00:00,  5.04it/s]\n"
     ]
    },
    {
     "name": "stdout",
     "output_type": "stream",
     "text": [
      "Learning rate: 0.001000\n",
      "Epoch loss = 0.0833, pixel accuracy = 68.5475%\n",
      "Dice score = 88.7209%, IoU = 80.6796%\n",
      "\n"
     ]
    },
    {
     "name": "stderr",
     "output_type": "stream",
     "text": [
      "CURRENT EPOCH: 16: 100%|██████████| 34/34 [00:06<00:00,  5.01it/s]\n"
     ]
    },
    {
     "name": "stdout",
     "output_type": "stream",
     "text": [
      "Learning rate: 0.001000\n",
      "Epoch loss = 0.0808, pixel accuracy = 68.4859%\n",
      "Dice score = 88.9131%, IoU = 80.9321%\n",
      "\n"
     ]
    },
    {
     "name": "stderr",
     "output_type": "stream",
     "text": [
      "CURRENT EPOCH: 17: 100%|██████████| 34/34 [00:06<00:00,  5.01it/s]\n"
     ]
    },
    {
     "name": "stdout",
     "output_type": "stream",
     "text": [
      "Learning rate: 0.001000\n",
      "Epoch loss = 0.0826, pixel accuracy = 68.4905%\n",
      "Dice score = 88.6002%, IoU = 80.6671%\n",
      "\n"
     ]
    },
    {
     "name": "stderr",
     "output_type": "stream",
     "text": [
      "CURRENT EPOCH: 18: 100%|██████████| 34/34 [00:06<00:00,  5.04it/s]\n"
     ]
    },
    {
     "name": "stdout",
     "output_type": "stream",
     "text": [
      "Learning rate: 0.001000\n",
      "Epoch loss = 0.0825, pixel accuracy = 68.3157%\n",
      "Dice score = 88.6167%, IoU = 80.6030%\n",
      "\n"
     ]
    },
    {
     "name": "stderr",
     "output_type": "stream",
     "text": [
      "CURRENT EPOCH: 19: 100%|██████████| 34/34 [00:06<00:00,  5.02it/s]\n"
     ]
    },
    {
     "name": "stdout",
     "output_type": "stream",
     "text": [
      "Learning rate: 0.001000\n",
      "Epoch loss = 0.0801, pixel accuracy = 68.3025%\n",
      "Dice score = 89.0913%, IoU = 81.0993%\n",
      "\n"
     ]
    },
    {
     "name": "stderr",
     "output_type": "stream",
     "text": [
      "CURRENT EPOCH: 20: 100%|██████████| 34/34 [00:06<00:00,  5.01it/s]\n"
     ]
    },
    {
     "name": "stdout",
     "output_type": "stream",
     "text": [
      "Learning rate: 0.001000\n",
      "Epoch loss = 0.0807, pixel accuracy = 68.1281%\n",
      "Dice score = 88.8431%, IoU = 80.9532%\n",
      "\n"
     ]
    },
    {
     "name": "stderr",
     "output_type": "stream",
     "text": [
      "CURRENT EPOCH: 21: 100%|██████████| 34/34 [00:06<00:00,  4.86it/s]\n"
     ]
    },
    {
     "name": "stdout",
     "output_type": "stream",
     "text": [
      "Learning rate: 0.001000\n",
      "Epoch loss = 0.0765, pixel accuracy = 68.4683%\n",
      "Dice score = 89.0858%, IoU = 81.2166%\n",
      "\n"
     ]
    },
    {
     "name": "stderr",
     "output_type": "stream",
     "text": [
      "CURRENT EPOCH: 22: 100%|██████████| 34/34 [00:06<00:00,  4.91it/s]\n"
     ]
    },
    {
     "name": "stdout",
     "output_type": "stream",
     "text": [
      "Learning rate: 0.001000\n",
      "Epoch loss = 0.0814, pixel accuracy = 68.3457%\n",
      "Dice score = 88.7926%, IoU = 80.7695%\n",
      "\n"
     ]
    },
    {
     "name": "stderr",
     "output_type": "stream",
     "text": [
      "CURRENT EPOCH: 23: 100%|██████████| 34/34 [00:06<00:00,  4.95it/s]\n"
     ]
    },
    {
     "name": "stdout",
     "output_type": "stream",
     "text": [
      "Learning rate: 0.001000\n",
      "Epoch loss = 0.0842, pixel accuracy = 68.3763%\n",
      "Dice score = 88.8201%, IoU = 80.7354%\n",
      "\n"
     ]
    },
    {
     "name": "stderr",
     "output_type": "stream",
     "text": [
      "CURRENT EPOCH: 24: 100%|██████████| 34/34 [00:06<00:00,  4.98it/s]\n"
     ]
    },
    {
     "name": "stdout",
     "output_type": "stream",
     "text": [
      "Learning rate: 0.001000\n",
      "Epoch loss = 0.0807, pixel accuracy = 68.3805%\n",
      "Dice score = 88.8930%, IoU = 80.7790%\n",
      "\n"
     ]
    },
    {
     "name": "stderr",
     "output_type": "stream",
     "text": [
      "CURRENT EPOCH: 25: 100%|██████████| 34/34 [00:06<00:00,  4.95it/s]\n"
     ]
    },
    {
     "name": "stdout",
     "output_type": "stream",
     "text": [
      "Learning rate: 0.001000\n",
      "Epoch loss = 0.0781, pixel accuracy = 68.5840%\n",
      "Dice score = 89.2953%, IoU = 81.4909%\n",
      "\n"
     ]
    },
    {
     "name": "stderr",
     "output_type": "stream",
     "text": [
      "CURRENT EPOCH: 26: 100%|██████████| 34/34 [00:06<00:00,  4.89it/s]\n"
     ]
    },
    {
     "name": "stdout",
     "output_type": "stream",
     "text": [
      "Learning rate: 0.001000\n",
      "Epoch loss = 0.0769, pixel accuracy = 68.5265%\n",
      "Dice score = 89.4107%, IoU = 81.5033%\n",
      "\n"
     ]
    },
    {
     "name": "stderr",
     "output_type": "stream",
     "text": [
      "CURRENT EPOCH: 27: 100%|██████████| 34/34 [00:06<00:00,  4.91it/s]\n"
     ]
    },
    {
     "name": "stdout",
     "output_type": "stream",
     "text": [
      "Learning rate: 0.001000\n",
      "Epoch loss = 0.0789, pixel accuracy = 68.3108%\n",
      "Dice score = 88.8603%, IoU = 80.9237%\n",
      "\n"
     ]
    },
    {
     "name": "stderr",
     "output_type": "stream",
     "text": [
      "CURRENT EPOCH: 28: 100%|██████████| 34/34 [00:06<00:00,  4.91it/s]\n"
     ]
    },
    {
     "name": "stdout",
     "output_type": "stream",
     "text": [
      "Learning rate: 0.001000\n",
      "Epoch loss = 0.0807, pixel accuracy = 68.3438%\n",
      "Dice score = 88.6933%, IoU = 80.7089%\n",
      "\n"
     ]
    },
    {
     "name": "stderr",
     "output_type": "stream",
     "text": [
      "CURRENT EPOCH: 29: 100%|██████████| 34/34 [00:06<00:00,  4.95it/s]\n"
     ]
    },
    {
     "name": "stdout",
     "output_type": "stream",
     "text": [
      "Learning rate: 0.001000\n",
      "Epoch loss = 0.0784, pixel accuracy = 68.2619%\n",
      "Dice score = 89.2321%, IoU = 81.4909%\n",
      "\n"
     ]
    },
    {
     "name": "stderr",
     "output_type": "stream",
     "text": [
      "CURRENT EPOCH: 30: 100%|██████████| 34/34 [00:06<00:00,  4.98it/s]\n"
     ]
    },
    {
     "name": "stdout",
     "output_type": "stream",
     "text": [
      "Learning rate: 0.000800\n",
      "Epoch loss = 0.0786, pixel accuracy = 68.3269%\n",
      "Dice score = 89.1893%, IoU = 81.3961%\n",
      "\n"
     ]
    },
    {
     "name": "stderr",
     "output_type": "stream",
     "text": [
      "CURRENT EPOCH: 31: 100%|██████████| 34/34 [00:06<00:00,  4.98it/s]\n"
     ]
    },
    {
     "name": "stdout",
     "output_type": "stream",
     "text": [
      "Learning rate: 0.000800\n",
      "Epoch loss = 0.0774, pixel accuracy = 68.3679%\n",
      "Dice score = 89.4600%, IoU = 81.7098%\n",
      "\n"
     ]
    },
    {
     "name": "stderr",
     "output_type": "stream",
     "text": [
      "CURRENT EPOCH: 32: 100%|██████████| 34/34 [00:06<00:00,  4.97it/s]\n"
     ]
    },
    {
     "name": "stdout",
     "output_type": "stream",
     "text": [
      "Learning rate: 0.000800\n",
      "Epoch loss = 0.0742, pixel accuracy = 68.3050%\n",
      "Dice score = 89.4133%, IoU = 81.5714%\n",
      "\n"
     ]
    },
    {
     "name": "stderr",
     "output_type": "stream",
     "text": [
      "CURRENT EPOCH: 33: 100%|██████████| 34/34 [00:06<00:00,  5.00it/s]\n"
     ]
    },
    {
     "name": "stdout",
     "output_type": "stream",
     "text": [
      "Learning rate: 0.000800\n",
      "Epoch loss = 0.0740, pixel accuracy = 68.5066%\n",
      "Dice score = 89.6069%, IoU = 81.8616%\n",
      "\n"
     ]
    },
    {
     "name": "stderr",
     "output_type": "stream",
     "text": [
      "CURRENT EPOCH: 34: 100%|██████████| 34/34 [00:06<00:00,  4.98it/s]\n"
     ]
    },
    {
     "name": "stdout",
     "output_type": "stream",
     "text": [
      "Learning rate: 0.000800\n",
      "Epoch loss = 0.0756, pixel accuracy = 68.5217%\n",
      "Dice score = 89.3214%, IoU = 81.5347%\n",
      "\n"
     ]
    },
    {
     "name": "stderr",
     "output_type": "stream",
     "text": [
      "CURRENT EPOCH: 35: 100%|██████████| 34/34 [00:06<00:00,  4.99it/s]\n"
     ]
    },
    {
     "name": "stdout",
     "output_type": "stream",
     "text": [
      "Learning rate: 0.000800\n",
      "Epoch loss = 0.0766, pixel accuracy = 68.4678%\n",
      "Dice score = 89.6923%, IoU = 81.9253%\n",
      "\n"
     ]
    },
    {
     "name": "stderr",
     "output_type": "stream",
     "text": [
      "CURRENT EPOCH: 36: 100%|██████████| 34/34 [00:06<00:00,  4.99it/s]\n"
     ]
    },
    {
     "name": "stdout",
     "output_type": "stream",
     "text": [
      "Learning rate: 0.000800\n",
      "Epoch loss = 0.0736, pixel accuracy = 68.2150%\n",
      "Dice score = 89.7130%, IoU = 81.9938%\n",
      "\n"
     ]
    },
    {
     "name": "stderr",
     "output_type": "stream",
     "text": [
      "CURRENT EPOCH: 37: 100%|██████████| 34/34 [00:06<00:00,  4.96it/s]\n"
     ]
    },
    {
     "name": "stdout",
     "output_type": "stream",
     "text": [
      "Learning rate: 0.000800\n",
      "Epoch loss = 0.0731, pixel accuracy = 68.2534%\n",
      "Dice score = 89.4667%, IoU = 81.7610%\n",
      "\n"
     ]
    },
    {
     "name": "stderr",
     "output_type": "stream",
     "text": [
      "CURRENT EPOCH: 38: 100%|██████████| 34/34 [00:06<00:00,  4.92it/s]\n"
     ]
    },
    {
     "name": "stdout",
     "output_type": "stream",
     "text": [
      "Learning rate: 0.000800\n",
      "Epoch loss = 0.0742, pixel accuracy = 68.4388%\n",
      "Dice score = 89.6169%, IoU = 81.8565%\n",
      "\n"
     ]
    },
    {
     "name": "stderr",
     "output_type": "stream",
     "text": [
      "CURRENT EPOCH: 39: 100%|██████████| 34/34 [00:06<00:00,  4.99it/s]\n"
     ]
    },
    {
     "name": "stdout",
     "output_type": "stream",
     "text": [
      "Learning rate: 0.000800\n",
      "Epoch loss = 0.0728, pixel accuracy = 68.4354%\n",
      "Dice score = 89.6073%, IoU = 81.9192%\n",
      "\n"
     ]
    },
    {
     "name": "stderr",
     "output_type": "stream",
     "text": [
      "CURRENT EPOCH: 40: 100%|██████████| 34/34 [00:06<00:00,  4.97it/s]\n"
     ]
    },
    {
     "name": "stdout",
     "output_type": "stream",
     "text": [
      "Learning rate: 0.000800\n",
      "Epoch loss = 0.0742, pixel accuracy = 68.3846%\n",
      "Dice score = 89.5826%, IoU = 81.8278%\n",
      "\n"
     ]
    },
    {
     "name": "stderr",
     "output_type": "stream",
     "text": [
      "CURRENT EPOCH: 41: 100%|██████████| 34/34 [00:06<00:00,  4.96it/s]\n"
     ]
    },
    {
     "name": "stdout",
     "output_type": "stream",
     "text": [
      "Learning rate: 0.000800\n",
      "Epoch loss = 0.0743, pixel accuracy = 68.5416%\n",
      "Dice score = 89.6396%, IoU = 81.8637%\n",
      "\n"
     ]
    },
    {
     "name": "stderr",
     "output_type": "stream",
     "text": [
      "CURRENT EPOCH: 42: 100%|██████████| 34/34 [00:06<00:00,  4.92it/s]\n"
     ]
    },
    {
     "name": "stdout",
     "output_type": "stream",
     "text": [
      "Learning rate: 0.000800\n",
      "Epoch loss = 0.0728, pixel accuracy = 68.4167%\n",
      "Dice score = 89.5344%, IoU = 81.7605%\n",
      "\n"
     ]
    },
    {
     "name": "stderr",
     "output_type": "stream",
     "text": [
      "CURRENT EPOCH: 43: 100%|██████████| 34/34 [00:06<00:00,  4.90it/s]\n"
     ]
    },
    {
     "name": "stdout",
     "output_type": "stream",
     "text": [
      "Learning rate: 0.000800\n",
      "Epoch loss = 0.0699, pixel accuracy = 68.2671%\n",
      "Dice score = 89.7958%, IoU = 82.1460%\n",
      "\n"
     ]
    },
    {
     "name": "stderr",
     "output_type": "stream",
     "text": [
      "CURRENT EPOCH: 44: 100%|██████████| 34/34 [00:06<00:00,  4.94it/s]\n"
     ]
    },
    {
     "name": "stdout",
     "output_type": "stream",
     "text": [
      "Learning rate: 0.000640\n",
      "Epoch loss = 0.0749, pixel accuracy = 68.5334%\n",
      "Dice score = 89.5903%, IoU = 81.9056%\n",
      "\n"
     ]
    },
    {
     "name": "stderr",
     "output_type": "stream",
     "text": [
      "CURRENT EPOCH: 45: 100%|██████████| 34/34 [00:06<00:00,  4.97it/s]\n"
     ]
    },
    {
     "name": "stdout",
     "output_type": "stream",
     "text": [
      "Learning rate: 0.000640\n",
      "Epoch loss = 0.0735, pixel accuracy = 68.4491%\n",
      "Dice score = 89.5170%, IoU = 81.7508%\n",
      "\n"
     ]
    },
    {
     "name": "stderr",
     "output_type": "stream",
     "text": [
      "CURRENT EPOCH: 46: 100%|██████████| 34/34 [00:06<00:00,  4.97it/s]\n"
     ]
    },
    {
     "name": "stdout",
     "output_type": "stream",
     "text": [
      "Learning rate: 0.000640\n",
      "Epoch loss = 0.0737, pixel accuracy = 68.6896%\n",
      "Dice score = 89.6474%, IoU = 81.9850%\n",
      "\n"
     ]
    },
    {
     "name": "stderr",
     "output_type": "stream",
     "text": [
      "CURRENT EPOCH: 47: 100%|██████████| 34/34 [00:06<00:00,  4.91it/s]\n"
     ]
    },
    {
     "name": "stdout",
     "output_type": "stream",
     "text": [
      "Learning rate: 0.000640\n",
      "Epoch loss = 0.0724, pixel accuracy = 68.2578%\n",
      "Dice score = 89.6907%, IoU = 81.9573%\n",
      "\n"
     ]
    },
    {
     "name": "stderr",
     "output_type": "stream",
     "text": [
      "CURRENT EPOCH: 48: 100%|██████████| 34/34 [00:06<00:00,  4.92it/s]\n"
     ]
    },
    {
     "name": "stdout",
     "output_type": "stream",
     "text": [
      "Learning rate: 0.000640\n",
      "Epoch loss = 0.0727, pixel accuracy = 68.5117%\n",
      "Dice score = 89.4885%, IoU = 81.7928%\n",
      "\n"
     ]
    },
    {
     "name": "stderr",
     "output_type": "stream",
     "text": [
      "CURRENT EPOCH: 49: 100%|██████████| 34/34 [00:06<00:00,  4.92it/s]\n"
     ]
    },
    {
     "name": "stdout",
     "output_type": "stream",
     "text": [
      "Learning rate: 0.000640\n",
      "Epoch loss = 0.0710, pixel accuracy = 68.6533%\n",
      "Dice score = 89.6930%, IoU = 82.0427%\n",
      "\n"
     ]
    },
    {
     "name": "stderr",
     "output_type": "stream",
     "text": [
      "CURRENT EPOCH: 50: 100%|██████████| 34/34 [00:07<00:00,  4.85it/s]\n"
     ]
    },
    {
     "name": "stdout",
     "output_type": "stream",
     "text": [
      "Learning rate: 0.000640\n",
      "Epoch loss = 0.0702, pixel accuracy = 68.2569%\n",
      "Dice score = 89.6859%, IoU = 81.9950%\n",
      "\n"
     ]
    },
    {
     "name": "stderr",
     "output_type": "stream",
     "text": [
      "CURRENT EPOCH: 51: 100%|██████████| 34/34 [00:06<00:00,  4.89it/s]\n"
     ]
    },
    {
     "name": "stdout",
     "output_type": "stream",
     "text": [
      "Learning rate: 0.000640\n",
      "Epoch loss = 0.0723, pixel accuracy = 68.2902%\n",
      "Dice score = 89.6402%, IoU = 81.9388%\n",
      "\n"
     ]
    },
    {
     "name": "stderr",
     "output_type": "stream",
     "text": [
      "CURRENT EPOCH: 52: 100%|██████████| 34/34 [00:06<00:00,  4.86it/s]\n"
     ]
    },
    {
     "name": "stdout",
     "output_type": "stream",
     "text": [
      "Learning rate: 0.000640\n",
      "Epoch loss = 0.0733, pixel accuracy = 68.5107%\n",
      "Dice score = 89.6528%, IoU = 82.0332%\n",
      "\n"
     ]
    },
    {
     "name": "stderr",
     "output_type": "stream",
     "text": [
      "CURRENT EPOCH: 53: 100%|██████████| 34/34 [00:06<00:00,  4.94it/s]\n"
     ]
    },
    {
     "name": "stdout",
     "output_type": "stream",
     "text": [
      "Learning rate: 0.000640\n",
      "Epoch loss = 0.0716, pixel accuracy = 68.4219%\n",
      "Dice score = 89.6409%, IoU = 81.9484%\n",
      "\n"
     ]
    },
    {
     "name": "stderr",
     "output_type": "stream",
     "text": [
      "CURRENT EPOCH: 54: 100%|██████████| 34/34 [00:06<00:00,  4.99it/s]\n"
     ]
    },
    {
     "name": "stdout",
     "output_type": "stream",
     "text": [
      "Learning rate: 0.000640\n",
      "Epoch loss = 0.0700, pixel accuracy = 68.3250%\n",
      "Dice score = 90.0357%, IoU = 82.4307%\n",
      "\n"
     ]
    },
    {
     "name": "stderr",
     "output_type": "stream",
     "text": [
      "CURRENT EPOCH: 55: 100%|██████████| 34/34 [00:06<00:00,  4.97it/s]\n"
     ]
    },
    {
     "name": "stdout",
     "output_type": "stream",
     "text": [
      "Learning rate: 0.000512\n",
      "Epoch loss = 0.0712, pixel accuracy = 68.5721%\n",
      "Dice score = 90.0441%, IoU = 82.3941%\n",
      "\n"
     ]
    },
    {
     "name": "stderr",
     "output_type": "stream",
     "text": [
      "CURRENT EPOCH: 56: 100%|██████████| 34/34 [00:06<00:00,  4.92it/s]\n"
     ]
    },
    {
     "name": "stdout",
     "output_type": "stream",
     "text": [
      "Learning rate: 0.000512\n",
      "Epoch loss = 0.0694, pixel accuracy = 68.5247%\n",
      "Dice score = 89.9503%, IoU = 82.3134%\n",
      "\n"
     ]
    },
    {
     "name": "stderr",
     "output_type": "stream",
     "text": [
      "CURRENT EPOCH: 57: 100%|██████████| 34/34 [00:06<00:00,  4.94it/s]\n"
     ]
    },
    {
     "name": "stdout",
     "output_type": "stream",
     "text": [
      "Learning rate: 0.000512\n",
      "Epoch loss = 0.0711, pixel accuracy = 68.3401%\n",
      "Dice score = 89.7093%, IoU = 82.0646%\n",
      "\n"
     ]
    },
    {
     "name": "stderr",
     "output_type": "stream",
     "text": [
      "CURRENT EPOCH: 58: 100%|██████████| 34/34 [00:06<00:00,  5.00it/s]\n"
     ]
    },
    {
     "name": "stdout",
     "output_type": "stream",
     "text": [
      "Learning rate: 0.000512\n",
      "Epoch loss = 0.0710, pixel accuracy = 68.5690%\n",
      "Dice score = 89.9741%, IoU = 82.3887%\n",
      "\n"
     ]
    },
    {
     "name": "stderr",
     "output_type": "stream",
     "text": [
      "CURRENT EPOCH: 59: 100%|██████████| 34/34 [00:06<00:00,  4.96it/s]\n"
     ]
    },
    {
     "name": "stdout",
     "output_type": "stream",
     "text": [
      "Learning rate: 0.000512\n",
      "Epoch loss = 0.0695, pixel accuracy = 68.4049%\n",
      "Dice score = 90.0052%, IoU = 82.4769%\n",
      "\n"
     ]
    },
    {
     "name": "stderr",
     "output_type": "stream",
     "text": [
      "CURRENT EPOCH: 60: 100%|██████████| 34/34 [00:06<00:00,  4.98it/s]\n"
     ]
    },
    {
     "name": "stdout",
     "output_type": "stream",
     "text": [
      "Learning rate: 0.000512\n",
      "Epoch loss = 0.0719, pixel accuracy = 68.5276%\n",
      "Dice score = 89.7422%, IoU = 82.0479%\n",
      "\n"
     ]
    },
    {
     "name": "stderr",
     "output_type": "stream",
     "text": [
      "CURRENT EPOCH: 61: 100%|██████████| 34/34 [00:06<00:00,  4.99it/s]\n"
     ]
    },
    {
     "name": "stdout",
     "output_type": "stream",
     "text": [
      "Learning rate: 0.000512\n",
      "Epoch loss = 0.0720, pixel accuracy = 68.6213%\n",
      "Dice score = 89.8235%, IoU = 82.2844%\n",
      "\n"
     ]
    },
    {
     "name": "stderr",
     "output_type": "stream",
     "text": [
      "CURRENT EPOCH: 62: 100%|██████████| 34/34 [00:06<00:00,  4.96it/s]\n"
     ]
    },
    {
     "name": "stdout",
     "output_type": "stream",
     "text": [
      "Learning rate: 0.000512\n",
      "Epoch loss = 0.0702, pixel accuracy = 68.4342%\n",
      "Dice score = 89.9891%, IoU = 82.4958%\n",
      "\n"
     ]
    },
    {
     "name": "stderr",
     "output_type": "stream",
     "text": [
      "CURRENT EPOCH: 63: 100%|██████████| 34/34 [00:06<00:00,  4.98it/s]\n"
     ]
    },
    {
     "name": "stdout",
     "output_type": "stream",
     "text": [
      "Learning rate: 0.000512\n",
      "Epoch loss = 0.0687, pixel accuracy = 68.4765%\n",
      "Dice score = 89.9018%, IoU = 82.3179%\n",
      "\n"
     ]
    },
    {
     "name": "stderr",
     "output_type": "stream",
     "text": [
      "CURRENT EPOCH: 64: 100%|██████████| 34/34 [00:07<00:00,  4.84it/s]\n"
     ]
    },
    {
     "name": "stdout",
     "output_type": "stream",
     "text": [
      "Learning rate: 0.000512\n",
      "Epoch loss = 0.0712, pixel accuracy = 68.3033%\n",
      "Dice score = 89.8770%, IoU = 82.3553%\n",
      "\n"
     ]
    },
    {
     "name": "stderr",
     "output_type": "stream",
     "text": [
      "CURRENT EPOCH: 65: 100%|██████████| 34/34 [00:07<00:00,  4.76it/s]\n"
     ]
    },
    {
     "name": "stdout",
     "output_type": "stream",
     "text": [
      "Learning rate: 0.000512\n",
      "Epoch loss = 0.0695, pixel accuracy = 68.2895%\n",
      "Dice score = 89.8758%, IoU = 82.2351%\n",
      "\n"
     ]
    },
    {
     "name": "stderr",
     "output_type": "stream",
     "text": [
      "CURRENT EPOCH: 66: 100%|██████████| 34/34 [00:07<00:00,  4.84it/s]\n"
     ]
    },
    {
     "name": "stdout",
     "output_type": "stream",
     "text": [
      "Learning rate: 0.000410\n",
      "Epoch loss = 0.0691, pixel accuracy = 68.3163%\n",
      "Dice score = 89.9562%, IoU = 82.4500%\n",
      "\n"
     ]
    },
    {
     "name": "stderr",
     "output_type": "stream",
     "text": [
      "CURRENT EPOCH: 67: 100%|██████████| 34/34 [00:06<00:00,  4.89it/s]\n"
     ]
    },
    {
     "name": "stdout",
     "output_type": "stream",
     "text": [
      "Learning rate: 0.000410\n",
      "Epoch loss = 0.0693, pixel accuracy = 68.3625%\n",
      "Dice score = 89.8608%, IoU = 82.3036%\n",
      "\n"
     ]
    },
    {
     "name": "stderr",
     "output_type": "stream",
     "text": [
      "CURRENT EPOCH: 68: 100%|██████████| 34/34 [00:06<00:00,  4.92it/s]\n"
     ]
    },
    {
     "name": "stdout",
     "output_type": "stream",
     "text": [
      "Learning rate: 0.000410\n",
      "Epoch loss = 0.0700, pixel accuracy = 68.3419%\n",
      "Dice score = 89.8164%, IoU = 82.2863%\n",
      "\n"
     ]
    },
    {
     "name": "stderr",
     "output_type": "stream",
     "text": [
      "CURRENT EPOCH: 69: 100%|██████████| 34/34 [00:07<00:00,  4.85it/s]\n"
     ]
    },
    {
     "name": "stdout",
     "output_type": "stream",
     "text": [
      "Learning rate: 0.000410\n",
      "Epoch loss = 0.0713, pixel accuracy = 68.7830%\n",
      "Dice score = 89.7526%, IoU = 82.0861%\n",
      "\n"
     ]
    },
    {
     "name": "stderr",
     "output_type": "stream",
     "text": [
      "CURRENT EPOCH: 70: 100%|██████████| 34/34 [00:06<00:00,  4.91it/s]\n"
     ]
    },
    {
     "name": "stdout",
     "output_type": "stream",
     "text": [
      "Learning rate: 0.000410\n",
      "Epoch loss = 0.0682, pixel accuracy = 68.3241%\n",
      "Dice score = 90.1448%, IoU = 82.6262%\n",
      "\n"
     ]
    },
    {
     "name": "stderr",
     "output_type": "stream",
     "text": [
      "CURRENT EPOCH: 71: 100%|██████████| 34/34 [00:06<00:00,  4.90it/s]\n"
     ]
    },
    {
     "name": "stdout",
     "output_type": "stream",
     "text": [
      "Learning rate: 0.000410\n",
      "Epoch loss = 0.0700, pixel accuracy = 68.5144%\n",
      "Dice score = 89.8755%, IoU = 82.2015%\n",
      "\n"
     ]
    },
    {
     "name": "stderr",
     "output_type": "stream",
     "text": [
      "CURRENT EPOCH: 72: 100%|██████████| 34/34 [00:06<00:00,  4.91it/s]\n"
     ]
    },
    {
     "name": "stdout",
     "output_type": "stream",
     "text": [
      "Learning rate: 0.000410\n",
      "Epoch loss = 0.0693, pixel accuracy = 68.5288%\n",
      "Dice score = 90.4125%, IoU = 82.9351%\n",
      "\n"
     ]
    },
    {
     "name": "stderr",
     "output_type": "stream",
     "text": [
      "CURRENT EPOCH: 73: 100%|██████████| 34/34 [00:07<00:00,  4.82it/s]\n"
     ]
    },
    {
     "name": "stdout",
     "output_type": "stream",
     "text": [
      "Learning rate: 0.000410\n",
      "Epoch loss = 0.0677, pixel accuracy = 68.3500%\n",
      "Dice score = 90.0202%, IoU = 82.5564%\n",
      "\n"
     ]
    },
    {
     "name": "stderr",
     "output_type": "stream",
     "text": [
      "CURRENT EPOCH: 74: 100%|██████████| 34/34 [00:06<00:00,  4.92it/s]\n"
     ]
    },
    {
     "name": "stdout",
     "output_type": "stream",
     "text": [
      "Learning rate: 0.000410\n",
      "Epoch loss = 0.0703, pixel accuracy = 68.6565%\n",
      "Dice score = 89.8765%, IoU = 82.3228%\n",
      "\n"
     ]
    },
    {
     "name": "stderr",
     "output_type": "stream",
     "text": [
      "CURRENT EPOCH: 75: 100%|██████████| 34/34 [00:06<00:00,  4.91it/s]\n"
     ]
    },
    {
     "name": "stdout",
     "output_type": "stream",
     "text": [
      "Learning rate: 0.000410\n",
      "Epoch loss = 0.0687, pixel accuracy = 68.2884%\n",
      "Dice score = 89.9717%, IoU = 82.5138%\n",
      "\n"
     ]
    },
    {
     "name": "stderr",
     "output_type": "stream",
     "text": [
      "CURRENT EPOCH: 76: 100%|██████████| 34/34 [00:07<00:00,  4.85it/s]\n"
     ]
    },
    {
     "name": "stdout",
     "output_type": "stream",
     "text": [
      "Learning rate: 0.000410\n",
      "Epoch loss = 0.0685, pixel accuracy = 68.4303%\n",
      "Dice score = 90.0384%, IoU = 82.5622%\n",
      "\n"
     ]
    },
    {
     "name": "stderr",
     "output_type": "stream",
     "text": [
      "CURRENT EPOCH: 77: 100%|██████████| 34/34 [00:06<00:00,  4.97it/s]\n"
     ]
    },
    {
     "name": "stdout",
     "output_type": "stream",
     "text": [
      "Learning rate: 0.000410\n",
      "Epoch loss = 0.0663, pixel accuracy = 68.3618%\n",
      "Dice score = 90.0737%, IoU = 82.5679%\n",
      "\n"
     ]
    },
    {
     "name": "stderr",
     "output_type": "stream",
     "text": [
      "CURRENT EPOCH: 78: 100%|██████████| 34/34 [00:06<00:00,  4.92it/s]\n"
     ]
    },
    {
     "name": "stdout",
     "output_type": "stream",
     "text": [
      "Learning rate: 0.000410\n",
      "Epoch loss = 0.0704, pixel accuracy = 68.4583%\n",
      "Dice score = 89.7520%, IoU = 82.1578%\n",
      "\n"
     ]
    },
    {
     "name": "stderr",
     "output_type": "stream",
     "text": [
      "CURRENT EPOCH: 79: 100%|██████████| 34/34 [00:06<00:00,  4.90it/s]\n"
     ]
    },
    {
     "name": "stdout",
     "output_type": "stream",
     "text": [
      "Learning rate: 0.000410\n",
      "Epoch loss = 0.0689, pixel accuracy = 68.6244%\n",
      "Dice score = 89.8178%, IoU = 82.2999%\n",
      "\n"
     ]
    },
    {
     "name": "stderr",
     "output_type": "stream",
     "text": [
      "CURRENT EPOCH: 80: 100%|██████████| 34/34 [00:06<00:00,  4.90it/s]\n"
     ]
    },
    {
     "name": "stdout",
     "output_type": "stream",
     "text": [
      "Learning rate: 0.000410\n",
      "Epoch loss = 0.0678, pixel accuracy = 68.3087%\n",
      "Dice score = 89.9614%, IoU = 82.4469%\n",
      "\n"
     ]
    },
    {
     "name": "stderr",
     "output_type": "stream",
     "text": [
      "CURRENT EPOCH: 81: 100%|██████████| 34/34 [00:06<00:00,  4.95it/s]\n"
     ]
    },
    {
     "name": "stdout",
     "output_type": "stream",
     "text": [
      "Learning rate: 0.000328\n",
      "Epoch loss = 0.0694, pixel accuracy = 68.4644%\n",
      "Dice score = 89.8372%, IoU = 82.3114%\n",
      "\n"
     ]
    },
    {
     "name": "stderr",
     "output_type": "stream",
     "text": [
      "CURRENT EPOCH: 82: 100%|██████████| 34/34 [00:06<00:00,  4.95it/s]\n"
     ]
    },
    {
     "name": "stdout",
     "output_type": "stream",
     "text": [
      "Learning rate: 0.000328\n",
      "Epoch loss = 0.0695, pixel accuracy = 68.4906%\n",
      "Dice score = 89.9469%, IoU = 82.4217%\n",
      "\n"
     ]
    },
    {
     "name": "stderr",
     "output_type": "stream",
     "text": [
      "CURRENT EPOCH: 83: 100%|██████████| 34/34 [00:06<00:00,  5.00it/s]\n"
     ]
    },
    {
     "name": "stdout",
     "output_type": "stream",
     "text": [
      "Learning rate: 0.000328\n",
      "Epoch loss = 0.0667, pixel accuracy = 68.2705%\n",
      "Dice score = 90.0808%, IoU = 82.5893%\n",
      "\n"
     ]
    },
    {
     "name": "stderr",
     "output_type": "stream",
     "text": [
      "CURRENT EPOCH: 84: 100%|██████████| 34/34 [00:06<00:00,  4.98it/s]\n"
     ]
    },
    {
     "name": "stdout",
     "output_type": "stream",
     "text": [
      "Learning rate: 0.000328\n",
      "Epoch loss = 0.0694, pixel accuracy = 68.6324%\n",
      "Dice score = 89.9528%, IoU = 82.5575%\n",
      "\n"
     ]
    },
    {
     "name": "stderr",
     "output_type": "stream",
     "text": [
      "CURRENT EPOCH: 85: 100%|██████████| 34/34 [00:06<00:00,  4.87it/s]\n"
     ]
    },
    {
     "name": "stdout",
     "output_type": "stream",
     "text": [
      "Learning rate: 0.000328\n",
      "Epoch loss = 0.0674, pixel accuracy = 68.6659%\n",
      "Dice score = 90.0221%, IoU = 82.5197%\n",
      "\n"
     ]
    },
    {
     "name": "stderr",
     "output_type": "stream",
     "text": [
      "CURRENT EPOCH: 86: 100%|██████████| 34/34 [00:06<00:00,  4.93it/s]\n"
     ]
    },
    {
     "name": "stdout",
     "output_type": "stream",
     "text": [
      "Learning rate: 0.000328\n",
      "Epoch loss = 0.0690, pixel accuracy = 68.4904%\n",
      "Dice score = 89.9717%, IoU = 82.4841%\n",
      "\n"
     ]
    },
    {
     "name": "stderr",
     "output_type": "stream",
     "text": [
      "CURRENT EPOCH: 87: 100%|██████████| 34/34 [00:07<00:00,  4.70it/s]\n"
     ]
    },
    {
     "name": "stdout",
     "output_type": "stream",
     "text": [
      "Learning rate: 0.000328\n",
      "Epoch loss = 0.0671, pixel accuracy = 68.4439%\n",
      "Dice score = 90.1151%, IoU = 82.7190%\n",
      "\n"
     ]
    },
    {
     "name": "stderr",
     "output_type": "stream",
     "text": [
      "CURRENT EPOCH: 88: 100%|██████████| 34/34 [00:06<00:00,  4.91it/s]\n"
     ]
    },
    {
     "name": "stdout",
     "output_type": "stream",
     "text": [
      "Learning rate: 0.000328\n",
      "Epoch loss = 0.0657, pixel accuracy = 68.5161%\n",
      "Dice score = 90.1831%, IoU = 82.7256%\n",
      "\n"
     ]
    },
    {
     "name": "stderr",
     "output_type": "stream",
     "text": [
      "CURRENT EPOCH: 89: 100%|██████████| 34/34 [00:06<00:00,  4.96it/s]\n"
     ]
    },
    {
     "name": "stdout",
     "output_type": "stream",
     "text": [
      "Learning rate: 0.000328\n",
      "Epoch loss = 0.0672, pixel accuracy = 68.3948%\n",
      "Dice score = 90.1200%, IoU = 82.6914%\n",
      "\n"
     ]
    },
    {
     "name": "stderr",
     "output_type": "stream",
     "text": [
      "CURRENT EPOCH: 90: 100%|██████████| 34/34 [00:07<00:00,  4.74it/s]\n"
     ]
    },
    {
     "name": "stdout",
     "output_type": "stream",
     "text": [
      "Learning rate: 0.000328\n",
      "Epoch loss = 0.0659, pixel accuracy = 68.6094%\n",
      "Dice score = 90.1392%, IoU = 82.6415%\n",
      "\n"
     ]
    },
    {
     "name": "stderr",
     "output_type": "stream",
     "text": [
      "CURRENT EPOCH: 91: 100%|██████████| 34/34 [00:06<00:00,  4.94it/s]\n"
     ]
    },
    {
     "name": "stdout",
     "output_type": "stream",
     "text": [
      "Learning rate: 0.000328\n",
      "Epoch loss = 0.0655, pixel accuracy = 68.2592%\n",
      "Dice score = 90.2980%, IoU = 82.8631%\n",
      "\n"
     ]
    },
    {
     "name": "stderr",
     "output_type": "stream",
     "text": [
      "CURRENT EPOCH: 92: 100%|██████████| 34/34 [00:06<00:00,  4.96it/s]\n"
     ]
    },
    {
     "name": "stdout",
     "output_type": "stream",
     "text": [
      "Learning rate: 0.000262\n",
      "Epoch loss = 0.0663, pixel accuracy = 68.4388%\n",
      "Dice score = 90.1289%, IoU = 82.6871%\n",
      "\n"
     ]
    },
    {
     "name": "stderr",
     "output_type": "stream",
     "text": [
      "CURRENT EPOCH: 93: 100%|██████████| 34/34 [00:07<00:00,  4.84it/s]\n"
     ]
    },
    {
     "name": "stdout",
     "output_type": "stream",
     "text": [
      "Learning rate: 0.000262\n",
      "Epoch loss = 0.0667, pixel accuracy = 68.3004%\n",
      "Dice score = 90.0703%, IoU = 82.6231%\n",
      "\n"
     ]
    },
    {
     "name": "stderr",
     "output_type": "stream",
     "text": [
      "CURRENT EPOCH: 94: 100%|██████████| 34/34 [00:06<00:00,  4.98it/s]\n"
     ]
    },
    {
     "name": "stdout",
     "output_type": "stream",
     "text": [
      "Learning rate: 0.000262\n",
      "Epoch loss = 0.0637, pixel accuracy = 68.2017%\n",
      "Dice score = 90.2443%, IoU = 82.8418%\n",
      "\n"
     ]
    },
    {
     "name": "stderr",
     "output_type": "stream",
     "text": [
      "CURRENT EPOCH: 95: 100%|██████████| 34/34 [00:06<00:00,  4.87it/s]\n"
     ]
    },
    {
     "name": "stdout",
     "output_type": "stream",
     "text": [
      "Learning rate: 0.000262\n",
      "Epoch loss = 0.0661, pixel accuracy = 68.4231%\n",
      "Dice score = 90.3373%, IoU = 82.9009%\n",
      "\n"
     ]
    },
    {
     "name": "stderr",
     "output_type": "stream",
     "text": [
      "CURRENT EPOCH: 96: 100%|██████████| 34/34 [00:06<00:00,  4.88it/s]\n"
     ]
    },
    {
     "name": "stdout",
     "output_type": "stream",
     "text": [
      "Learning rate: 0.000262\n",
      "Epoch loss = 0.0678, pixel accuracy = 68.2307%\n",
      "Dice score = 90.1668%, IoU = 82.6839%\n",
      "\n"
     ]
    },
    {
     "name": "stderr",
     "output_type": "stream",
     "text": [
      "CURRENT EPOCH: 97: 100%|██████████| 34/34 [00:07<00:00,  4.82it/s]\n"
     ]
    },
    {
     "name": "stdout",
     "output_type": "stream",
     "text": [
      "Learning rate: 0.000262\n",
      "Epoch loss = 0.0693, pixel accuracy = 68.6058%\n",
      "Dice score = 90.4987%, IoU = 83.0763%\n",
      "\n"
     ]
    },
    {
     "name": "stderr",
     "output_type": "stream",
     "text": [
      "CURRENT EPOCH: 98: 100%|██████████| 34/34 [00:07<00:00,  4.80it/s]\n"
     ]
    },
    {
     "name": "stdout",
     "output_type": "stream",
     "text": [
      "Learning rate: 0.000262\n",
      "Epoch loss = 0.0655, pixel accuracy = 68.3047%\n",
      "Dice score = 90.1370%, IoU = 82.7153%\n",
      "\n"
     ]
    },
    {
     "name": "stderr",
     "output_type": "stream",
     "text": [
      "CURRENT EPOCH: 99: 100%|██████████| 34/34 [00:07<00:00,  4.75it/s]"
     ]
    },
    {
     "name": "stdout",
     "output_type": "stream",
     "text": [
      "Learning rate: 0.000262\n",
      "Epoch loss = 0.0643, pixel accuracy = 68.3097%\n",
      "Dice score = 90.3376%, IoU = 83.0422%\n",
      "\n"
     ]
    },
    {
     "name": "stderr",
     "output_type": "stream",
     "text": [
      "\n"
     ]
    }
   ],
   "source": [
    "model, ftl, focal_loss, boundary_loss, optimizer = get_model(UNet=LiteNestedUNet, deep_supervision=True, lr=1e-3)\n",
    "train_losses, train_dice_score, train_iou, train_accuracies = [],[],[],[]\n",
    "\n",
    "epochs = 100\n",
    "\n",
    "scheduler = torch.optim.lr_scheduler.ReduceLROnPlateau(optimizer, mode='max',factor = 0.8,patience = 10, threshold=5e-3)\n",
    "\n",
    "model.train()\n",
    "\n",
    "img, mask, _,_ =next(iter(trn_dl))\n",
    "print(img.shape, mask.shape)  # Should print torch.Size([B, 3, 224, 224]), torch.Size([B, 1, 224, 224])\n",
    "\n",
    "head_weights = [0.1,0.1,0.2,0.6]\n",
    "\n",
    "w_ftl = 0.7\n",
    "w_fl = 0.3\n",
    "\n",
    "for epoch in range(epochs):\n",
    "    loss_sum = acc_sum = dice_sum = iou_sum = 0.0\n",
    "    n = 0\n",
    "\n",
    "    w_bdry = ramp_weight(epoch, start = 3, end = 15, max_w = 0.5)\n",
    "\n",
    "    for batch in tqdm(trn_dl, desc=f'CURRENT EPOCH: {epoch}'):\n",
    "        loss, dice, iou, acc = train_batch(model, batch, optimizer, \n",
    "                                      focal_tversky_loss=ftl, \n",
    "                                      focal_loss=focal_loss,\n",
    "                                      boundary_loss=boundary_loss,\n",
    "                                      head_weights=head_weights,\n",
    "                                      w_ftl = w_ftl, w_fl = w_fl, w_bdry = w_bdry)\n",
    "        \n",
    "        # --- Convert to CPU and to float ---\n",
    "        if torch.is_tensor(loss): loss = float(loss.detach().cpu())\n",
    "        if torch.is_tensor(acc):  acc  = float(acc.detach().cpu())\n",
    "        if torch.is_tensor(dice): dice = float(dice.detach().cpu())\n",
    "        if torch.is_tensor(iou): iou = float(iou.detach().cpu())\n",
    "\n",
    "\n",
    "        # train_batch should already return plain floats\n",
    "        loss_sum += loss\n",
    "        acc_sum  += acc\n",
    "        dice_sum += dice\n",
    "        iou_sum += iou\n",
    "        n += 1\n",
    "\n",
    "    epoch_loss = loss_sum / n\n",
    "    epoch_acc  = acc_sum  / n\n",
    "    epoch_dice = dice_sum / n\n",
    "    epoch_iou = iou_sum / n\n",
    "\n",
    "    train_losses.append(np.array(epoch_loss).item())\n",
    "    train_accuracies.append(np.array(epoch_acc).item())\n",
    "    train_dice_score.append(np.array(epoch_dice).item())\n",
    "    train_iou.append(np.array(epoch_iou).item())\n",
    "\n",
    "    scheduler.step(epoch_dice)\n",
    "\n",
    "    print(f'Learning rate: {scheduler.get_last_lr()[0]:.6f}')\n",
    "    print(f'Epoch loss = {epoch_loss:.4f}, pixel accuracy = {epoch_acc*100:.4f}%')\n",
    "    print(f'Dice score = {epoch_dice*100:.4f}%, IoU = {epoch_iou*100:.4f}%\\n')\n"
   ]
  },
  {
   "cell_type": "markdown",
   "id": "4b246016",
   "metadata": {},
   "source": [
    "### Save model after training"
   ]
  },
  {
   "cell_type": "code",
   "execution_count": 51,
   "id": "8329cc6f",
   "metadata": {},
   "outputs": [],
   "source": [
    "torch.save(model.state_dict(), './LiteNestedUNet.pth')"
   ]
  },
  {
   "cell_type": "markdown",
   "id": "80bed958",
   "metadata": {},
   "source": [
    "### Visualization of loss convergence and metrics"
   ]
  },
  {
   "cell_type": "markdown",
   "id": "67e27c2f",
   "metadata": {},
   "source": [
    "- Pixel accuracy is not high because for medical images, espically this nuclei dataset, the background takes up a large portion of the image, when model struggles with misclassifying, pixel-by-pixel, small cells or boundary, it can effect the pixel accuracy even though dice score is still fine.\n",
    "- Pixel accuracy is not a reliable metric for evaluating segmentation, however I still include to see how it reacts."
   ]
  },
  {
   "cell_type": "code",
   "execution_count": 52,
   "id": "62ea4cc7",
   "metadata": {},
   "outputs": [
    {
     "data": {
      "image/png": "[encoded data removed]",
      "text/plain": [
       "<Figure size 2000x500 with 3 Axes>"
      ]
     },
     "metadata": {},
     "output_type": "display_data"
    }
   ],
   "source": [
    "'''---Plotting and Visualizing convergence---'''\n",
    "it=np.arange(epochs)+1\n",
    "plt.figure(figsize=(20,5))\n",
    "\n",
    "'''--- Training loss ---'''\n",
    "plt.subplot(131)\n",
    "plt.title('Training Loss over Epochs')\n",
    "plt.plot(it, train_losses, label='Training Loss', color = 'red')\n",
    "plt.xlabel('Epoch')\n",
    "plt.ylabel('Loss')\n",
    "plt.grid(True)\n",
    "plt.legend()\n",
    "\n",
    "'''--- Pixel Accuracy ---'''\n",
    "ax2 = plt.subplot(132) \n",
    "plt.title('Pixel accuracy over Epochs')\n",
    "plt.plot(it, train_accuracies, label='Training Accuracy', color = 'blue')\n",
    "plt.xlabel('Epoch')\n",
    "plt.ylabel('Pixel accuracy')\n",
    "plt.grid(True)\n",
    "plt.legend()\n",
    "\n",
    "ticks2 = ax2.get_yticks()\n",
    "ax2.set_yticks(ticks2)\n",
    "ax2.set_yticklabels(['{:.0f}%'.format(x*100) for x in ticks2])\n",
    "\n",
    "\n",
    "'''--- Dice, Precision, Sensitivity ---'''\n",
    "ax3 = plt.subplot(133) \n",
    "plt.title('Dice, Precision, Sensitivity over Epochs')\n",
    "plt.plot(it, train_dice_score, label='Dice score', color = 'green')\n",
    "plt.plot(it, train_iou,label = 'IoU', color = 'orange')\n",
    "plt.xlabel('Epoch')\n",
    "plt.ylabel('Score (%)')\n",
    "plt.grid(True)\n",
    "plt.legend()\n",
    "\n",
    "ticks3 = ax3.get_yticks()\n",
    "ax3.set_yticks(ticks3)\n",
    "ax3.set_yticklabels(['{:.0f}%'.format(x*100) for x in ticks3])\n",
    "\n",
    "plt.tight_layout()\n",
    "plt.show()"
   ]
  },
  {
   "cell_type": "markdown",
   "id": "9aa516ed",
   "metadata": {},
   "source": [
    "### Segmented Output"
   ]
  },
  {
   "cell_type": "code",
   "execution_count": 81,
   "id": "a50c4a21",
   "metadata": {},
   "outputs": [
    {
     "data": {
      "image/png": "[encoded data removed]",
      "text/plain": [
       "<Figure size 1200x400 with 3 Axes>"
      ]
     },
     "metadata": {},
     "output_type": "display_data"
    }
   ],
   "source": [
    "'''Visualizing Segmented Output'''\n",
    "\n",
    "#DataLoader returns (batch_size,3,H,W) for img and (batch_size,1,H,W) for mask\n",
    "eval_dl = DataLoader(DSB2018_Dataset(set_type='eval'), batch_size=1, shuffle=True) \n",
    "\n",
    "# ---Get one sample---\n",
    "img, mask = next(iter(eval_dl)) # img: [B,3,H,W], mask: [B,1,H,W] \n",
    "img  = img.to(device)\n",
    "mask = mask.to(device)\n",
    "\n",
    "if mask.ndim == 4 and mask.shape[1] == 1: mask = mask[:, 0] # -> [B,H,W]\n",
    "elif mask.ndim != 3:\n",
    "    raise ValueError(\"mask must be [B,1,H,W] or [B,H,W] for binary\")\n",
    "\n",
    "# ---Normalized test input---\n",
    "img_norm = F.normalize(img, mean = [0.485, 0.456, 0.406], std = [0.229, 0.224, 0.225])\n",
    "\n",
    "# --- Handling Deep Supervision and W/O Deep Supervision ---\n",
    "head_weights = [0.1,0.1,0.2,0.6]\n",
    "thr = 0.5\n",
    "model.eval()\n",
    "with torch.no_grad(): \n",
    "    model.deep_supervision= True\n",
    "    out = model(img_norm) # logits [B,1,H,W] or list of 4 [B,1,H,W]\n",
    "\n",
    "    #---Deep supervision---\n",
    "    #Average heads with weights, consistent with the head weights used in loss\n",
    "    if isinstance(out, (list, tuple)):\n",
    "        heads = []\n",
    "        for idx,o in enumerate(out):\n",
    "            if o.ndim == 4 and o.shape[1] == 1:      # [B,1,H,W]\n",
    "                heads.append(o[:, 0]*head_weights[idx])                # [B,H,W]\n",
    "            else: raise ValueError(f\"Unexpected head shape: {o.shape}\")\n",
    "\n",
    "        logit = torch.stack(heads, dim=0).mean(dim=0)   # [B,H,W]\n",
    "    \n",
    "    #---W/O Deep supervision---\n",
    "    else:\n",
    "        if out.ndim == 4 and out.shape[1] == 1:\n",
    "            logit = out[:, 0,:,:]                         # [B,H,W]\n",
    "        else: raise ValueError(f\"Unexpected output shape: {out.shape}\")\n",
    "\n",
    "    prob = torch.sigmoid(logit)                     # [B,H,W] in [0,1]\n",
    "    pred = (prob >= thr).float()                     # hard mask [B,H,W]\n",
    "\n",
    "# ---Convert to CPU---\n",
    "img_vis  = img[0].detach().permute(1,2,0).cpu().numpy()   # [H,W,3]\n",
    "mask_vis = mask[0].detach().float().cpu().numpy()         # [H,W]\n",
    "pred_vis = pred[0].detach().cpu().numpy()                 # [H,W]\n",
    "\n",
    "# ---Plotting---\n",
    "fig, axs = plt.subplots(1, 3, figsize=(12, 4))\n",
    "\n",
    "axs[0].imshow(img_vis)                        \n",
    "axs[0].set_title(\"Image\")       \n",
    "axs[0].axis('off')\n",
    "\n",
    "axs[1].imshow(mask_vis, cmap='gray', vmin=0, vmax=1)\n",
    "axs[1].set_title(\"GT mask\")\n",
    "axs[1].axis('off')\n",
    "\n",
    "axs[2].imshow(pred_vis, cmap='gray', vmin=0, vmax=1)\n",
    "axs[2].set_title(f\"Pred @ thr={thr}\")\n",
    "axs[2].axis('off')\n",
    "\n",
    "plt.tight_layout(); plt.show()\n",
    "\n"
   ]
  }
 ],
 "metadata": {
  "kernelspec": {
   "display_name": "torch311",
   "language": "python",
   "name": "python3"
  },
  "language_info": {
   "codemirror_mode": {
    "name": "ipython",
    "version": 3
   },
   "file_extension": ".py",
   "mimetype": "text/x-python",
   "name": "python",
   "nbconvert_exporter": "python",
   "pygments_lexer": "ipython3",
   "version": "3.11.0"
  }
 },
 "nbformat": 4,
 "nbformat_minor": 5
}
